{
 "cells": [
  {
   "cell_type": "markdown",
   "metadata": {},
   "source": [
    "# mac iterm2 key\n",
    "\n",
    "```bash\n",
    "# 分屏\n",
    "\n",
    "# 垂直\n",
    "command + d\n",
    "# 水平\n",
    "command + shift + d  \n",
    "# 切换屏幕\n",
    "command + option + 方向键\n",
    "command + [|]\n",
    "\n",
    "# 查看历史命令\n",
    "command + ;\n",
    "\n",
    "# 查看剪贴板历史\n",
    "command + shift + h\n",
    "\n",
    "# 清除当前行\n",
    "ctrl + u\n",
    "# 前进／后退\n",
    "ctrl + f/b\n",
    "# 上一条命令\n",
    "ctrl + p\n",
    "\n",
    "# 删除当前光标字符\n",
    "ctrl + d\n",
    "# 删除当前之前光标的字符\n",
    "ctrl + h\n",
    "# 删除光标之前的单词\n",
    "ctrl + w\n",
    "# 删除光标到末尾\n",
    "ctrl + k\n",
    "# 交换光标处文本\n",
    "ctrl + t\n",
    "# \n",
    "\n",
    "\n",
    "```\n",
    "\n"
   ]
  }
 ],
 "metadata": {
  "kernelspec": {
   "display_name": "Python 2",
   "language": "python",
   "name": "python2"
  },
  "language_info": {
   "codemirror_mode": {
    "name": "ipython",
    "version": 2
   },
   "file_extension": ".py",
   "mimetype": "text/x-python",
   "name": "python",
   "nbconvert_exporter": "python",
   "pygments_lexer": "ipython2",
   "version": "2.7.10"
  }
 },
 "nbformat": 4,
 "nbformat_minor": 2
}
