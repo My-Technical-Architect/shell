{
 "cells": [
  {
   "cell_type": "markdown",
   "metadata": {},
   "source": [
    "# screen 基础\n",
    "\n",
    "\n",
    "\n",
    "### 使用问题\n",
    "\n",
    "1. Cannot open your terminal '/dev/pts/0' - please check.\n",
    "\n",
    "```bash\n",
    "解决方法:\n",
    "# 运行脚本\n",
    "script -q -c \"su $USER -l -c 'screen -m -d -S $NAME $DAEMON start'\" /dev/null\n",
    "\n",
    "# 单独执行\n",
    "script /dev/null\n",
    "\n",
    "```\n",
    "\n"
   ]
  }
 ],
 "metadata": {
  "kernelspec": {
   "display_name": "Python 2",
   "language": "python",
   "name": "python2"
  },
  "language_info": {
   "codemirror_mode": {
    "name": "ipython",
    "version": 2
   },
   "file_extension": ".py",
   "mimetype": "text/x-python",
   "name": "python",
   "nbconvert_exporter": "python",
   "pygments_lexer": "ipython2",
   "version": "2.7.11+"
  }
 },
 "nbformat": 4,
 "nbformat_minor": 0
}
