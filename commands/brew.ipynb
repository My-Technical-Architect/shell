{
 "cells": [
  {
   "cell_type": "markdown",
   "metadata": {},
   "source": [
    "# brew 基本命令\n",
    "\n",
    "brew home       用浏览器打开brew的官方网站\n",
    "\n",
    "brew search <package_name>      # 搜索\n",
    "brew install <package_name>     # 安装一个软件\n",
    "brew update                     # 从服务器上拉取，并更新本地 brew 的包目录\n",
    "brew upgrade <package_name>     # 更新软件\n",
    "brew outdated                   # 查看你的软件中哪些有新版本可用\n",
    "brew cleanup                    # 清理老版本。使用 `-n` 参数，不会真正执行，只是打印出真正运行时会做什么。\n",
    "brew list --versions            # 查看你安装过的包列表（包括版本号）\n",
    "brew link <package_name>        # 将软件的当前最新版本软链到`/usr/local`目录下\n",
    "brew unlink <package_name>      # 将软件在`/usr/local`目录下的软链接删除。\n",
    "brew info                       # 显示软件的信息 \n",
    "brew deps                       # 显示包依赖\n"
   ]
  },
  {
   "cell_type": "markdown",
   "metadata": {},
   "source": [
    "# mac os x install \n",
    "\n",
    "```bash\n",
    "sudo /Users/xxx/soft/Install\\ macOS\\ Sierra.app/Contents/Resources/createinstallmedia  --volume /Volumes/UUI/ --applicationpath /Users/xxx/soft/Install\\ macOS\\ Sierra.app --nointeraction\n",
    "\n",
    "```\n"
   ]
  }
 ],
 "metadata": {
  "kernelspec": {
   "display_name": "Python 2",
   "language": "python",
   "name": "python2"
  },
  "language_info": {
   "codemirror_mode": {
    "name": "ipython",
    "version": 2
   },
   "file_extension": ".py",
   "mimetype": "text/x-python",
   "name": "python",
   "nbconvert_exporter": "python",
   "pygments_lexer": "ipython2",
   "version": "2.7.10"
  }
 },
 "nbformat": 4,
 "nbformat_minor": 2
}
