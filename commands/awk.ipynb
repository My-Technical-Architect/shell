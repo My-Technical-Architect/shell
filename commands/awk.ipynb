{
 "cells": [
  {
   "cell_type": "markdown",
   "metadata": {},
   "source": [
    "# awk\n",
    "\n",
    "- ** 数据字段和数据行变量 **\n",
    "\n",
    "```bash\n",
    "    FIELDWIDTHS    由空格分割开的定义了每个数据字段确切宽度的一系列数字\n",
    "    FS             输入分隔符\n",
    "    OFS            输出分隔符\n",
    "    RS             输入数据行分隔符,默认换行符\n",
    "    ORS            输出数据行分隔符,默认换行符\n",
    "    \n",
    "    \n",
    "    ARGC           当前命令行参数个数\n",
    "    ARGV           命令行参数数组\n",
    "    ARGIND         当前文件在ARGV中的位置\n",
    "    \n",
    "    CONVFMT        数字转换格式\n",
    "    ENVIRON        当前shell环境变量及其组成的关联数组\n",
    "    NF\n",
    "    NR\n",
    "    FNR\n",
    "    \n",
    "    \n",
    "    printf 格式化\n",
    "```\n"
   ]
  },
  {
   "cell_type": "code",
   "execution_count": 1,
   "metadata": {
    "collapsed": false
   },
   "outputs": [
    {
     "name": "stdout",
     "output_type": "stream",
     "text": [
      "data11.data12.data13\n",
      "data21.data22.data23\n",
      "data31.data32.data33\n"
     ]
    }
   ],
   "source": [
    "%%bash\n",
    "\n",
    "cat ./data2.d"
   ]
  },
  {
   "cell_type": "code",
   "execution_count": 3,
   "metadata": {
    "collapsed": false
   },
   "outputs": [
    {
     "name": "stdout",
     "output_type": "stream",
     "text": [
      "data11 data12 data13\n",
      "data21 data22 data23\n",
      "data31 data32 data33\n"
     ]
    }
   ],
   "source": [
    "%%bash\n",
    "\n",
    "awk 'BEGIN {FS=\".\"} {print $1,$2,$3}' ./data2.d "
   ]
  },
  {
   "cell_type": "code",
   "execution_count": 5,
   "metadata": {
    "collapsed": false
   },
   "outputs": [
    {
     "name": "stdout",
     "output_type": "stream",
     "text": [
      "data11-data12-data13\n",
      "data21-data22-data23\n",
      "data31-data32-data33\n"
     ]
    }
   ],
   "source": [
    "%%bash\n",
    "\n",
    "awk 'BEGIN {FS=\".\"; OFS=\"-\"} {print $1,$2,$3}' ./data2.d"
   ]
  },
  {
   "cell_type": "code",
   "execution_count": 6,
   "metadata": {
    "collapsed": false
   },
   "outputs": [
    {
     "name": "stdout",
     "output_type": "stream",
     "text": [
      "1005.3247596.37\n",
      "115-2.349194.00\n",
      "05810.1298100.1\n"
     ]
    }
   ],
   "source": [
    "%%bash\n",
    "cat ./data3.d"
   ]
  },
  {
   "cell_type": "code",
   "execution_count": 16,
   "metadata": {
    "collapsed": false
   },
   "outputs": [
    {
     "name": "stdout",
     "output_type": "stream",
     "text": [
      "1005.3247596.37   \n",
      "115-2.349194.00   \n",
      "05810.1298100.1   \n"
     ]
    }
   ],
   "source": [
    "%%bash\n",
    "\n",
    "# 再以后gawk才支持\n",
    "\n",
    "awk 'BEGIN {FIELDWIDTHS=\"3 5 2 5\"} {print $1,$2,$3,$4}' ./data3.d"
   ]
  },
  {
   "cell_type": "code",
   "execution_count": 20,
   "metadata": {
    "collapsed": false
   },
   "outputs": [
    {
     "name": "stdout",
     "output_type": "stream",
     "text": [
      "2 ./data3.d\n",
      "\n",
      "/home/xiaoqiang/sparkenv/bin:/usr/local/sbin:/usr/local/bin:/usr/sbin:/usr/bin:/sbin:/bin\n"
     ]
    }
   ],
   "source": [
    "%%bash\n",
    "\n",
    "awk 'BEGIN {print ARGC,ARGV[1]}' ./data3.d\n",
    "\n",
    "awk 'BEGIN {print ENVIRON[\"HOME\"]; print ENVIRON[\"PATH\"]}'\n"
   ]
  },
  {
   "cell_type": "code",
   "execution_count": 22,
   "metadata": {
    "collapsed": false
   },
   "outputs": [
    {
     "name": "stdout",
     "output_type": "stream",
     "text": [
      "data11\n"
     ]
    }
   ],
   "source": [
    "%%bash\n",
    "\n",
    "# 正则表达式匹配\n",
    "\n",
    "awk 'BEGIN {FS=\".\"} /11/{print $1}' ./data2.d"
   ]
  },
  {
   "cell_type": "code",
   "execution_count": 25,
   "metadata": {
    "collapsed": false
   },
   "outputs": [
    {
     "name": "stdout",
     "output_type": "stream",
     "text": [
      "data21.data22.data23\n"
     ]
    }
   ],
   "source": [
    "%%bash\n",
    "\n",
    "# ~ 匹配操作符\n",
    "\n",
    "# 按着.分割后,取第二个字段以data2开头,并打印\n",
    "awk 'BEGIN {FS=\".\"} $2 ~ /^data2/{print $0}' ./data2.d\n"
   ]
  },
  {
   "cell_type": "code",
   "execution_count": 28,
   "metadata": {
    "collapsed": false
   },
   "outputs": [
    {
     "name": "stdout",
     "output_type": "stream",
     "text": [
      "data11.data12.data13\n",
      "data31.data32.data33\n"
     ]
    }
   ],
   "source": [
    "%%bash\n",
    "\n",
    "# 用! 符号来排除正则表达式匹配\n",
    "\n",
    "awk -F. '$2 !~ /^data2/{print $0}' ./data2.d\n"
   ]
  },
  {
   "cell_type": "code",
   "execution_count": 31,
   "metadata": {
    "collapsed": false
   },
   "outputs": [
    {
     "name": "stdout",
     "output_type": "stream",
     "text": [
      "data11.data12.data13\n"
     ]
    }
   ],
   "source": [
    "%%bash\n",
    "\n",
    "# 使用表达式\n",
    "\n",
    "awk -F. '$1 == \"data11\" {print $0}' ./data2.d"
   ]
  },
  {
   "cell_type": "code",
   "execution_count": 32,
   "metadata": {
    "collapsed": false
   },
   "outputs": [
    {
     "name": "stdout",
     "output_type": "stream",
     "text": [
      "10\n",
      "5\n",
      "13\n",
      "50\n",
      "34\n"
     ]
    }
   ],
   "source": [
    "%%bash\n",
    "cat ./data4.d"
   ]
  },
  {
   "cell_type": "code",
   "execution_count": 35,
   "metadata": {
    "collapsed": false
   },
   "outputs": [
    {
     "name": "stdout",
     "output_type": "stream",
     "text": [
      "50\n",
      "34\n"
     ]
    }
   ],
   "source": [
    "%%bash\n",
    "\n",
    "# if 条件\n",
    "awk '{if ($1 > 20) print $1}' ./data4.d\n"
   ]
  },
  {
   "cell_type": "code",
   "execution_count": 36,
   "metadata": {
    "collapsed": false
   },
   "outputs": [
    {
     "name": "stdout",
     "output_type": "stream",
     "text": [
      "5\n",
      "2.5\n",
      "6.5\n",
      "100\n",
      "68\n"
     ]
    }
   ],
   "source": [
    "%%bash\n",
    "\n",
    "awk '{if ($1 > 20) {x=$1 * 2; print x} else {x=$1 / 2; print x} }' ./data4.d\n"
   ]
  },
  {
   "cell_type": "code",
   "execution_count": 39,
   "metadata": {
    "collapsed": false
   },
   "outputs": [
    {
     "name": "stdout",
     "output_type": "stream",
     "text": [
      "5\n",
      "2.5\n",
      "6.5\n",
      "100\n",
      "68\n"
     ]
    }
   ],
   "source": [
    "%%bash\n",
    "awk '{if ($1 > 20) print $1 * 2; else print $1 / 2 }' ./data4.d"
   ]
  },
  {
   "cell_type": "code",
   "execution_count": 41,
   "metadata": {
    "collapsed": false
   },
   "outputs": [
    {
     "name": "stdout",
     "output_type": "stream",
     "text": [
      "130 120 135\n",
      "160 113 140\n",
      "145 170 215\n"
     ]
    }
   ],
   "source": [
    "%%bash\n",
    "\n",
    "cat ./data5.d"
   ]
  },
  {
   "cell_type": "code",
   "execution_count": 43,
   "metadata": {
    "collapsed": false
   },
   "outputs": [
    {
     "name": "stdout",
     "output_type": "stream",
     "text": [
      "Average: 128.333\n",
      "Average: 137.667\n",
      "Average: 176.667\n"
     ]
    }
   ],
   "source": [
    "%%bash\n",
    "\n",
    "# for \n",
    "\n",
    "awk '{total=0; i=1; while (i < 4) {total += $i; i++} ; avg = total / 3; print \"Average:\",avg}' ./data5.d"
   ]
  }
 ],
 "metadata": {
  "kernelspec": {
   "display_name": "Python 2",
   "language": "python",
   "name": "python2"
  },
  "language_info": {
   "codemirror_mode": {
    "name": "ipython",
    "version": 2
   },
   "file_extension": ".py",
   "mimetype": "text/x-python",
   "name": "python",
   "nbconvert_exporter": "python",
   "pygments_lexer": "ipython2",
   "version": "2.7.11+"
  }
 },
 "nbformat": 4,
 "nbformat_minor": 0
}
