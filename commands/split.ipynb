{
 "cells": [
  {
   "cell_type": "markdown",
   "metadata": {},
   "source": [
    "# split\n",
    "\n",
    "```bash\n",
    "-b：值为每一输出档案的大小，单位为 byte。 \n",
    "-C：每一输出档中，单行的最大 byte 数。 \n",
    "-d：使用数字作为后缀。 \n",
    "-l：值为每一输出档的列数大小。\n",
    "\n",
    "```\n",
    "\n",
    "```bash\n",
    "# 根据文件的行数来分割文件，例如把文件分割成每个包含10行的小文件\n",
    "split -l 10 date.file\n",
    "\n",
    "# 分割10k大小文件\n",
    "split -b 10k data.file\n",
    "\n",
    "# -d 数字后缀\n",
    "# -a 指定数字长度\n",
    "split -b 10k data.file -d -a 3\n",
    "\n",
    "# 指定文件前缀名\n",
    "split -b 10k data.file -d -a 3 my_split_name\n",
    "\n",
    "\n",
    "```"
   ]
  }
 ],
 "metadata": {
  "kernelspec": {
   "display_name": "Python 2",
   "language": "python",
   "name": "python2"
  },
  "language_info": {
   "codemirror_mode": {
    "name": "ipython",
    "version": 2
   },
   "file_extension": ".py",
   "mimetype": "text/x-python",
   "name": "python",
   "nbconvert_exporter": "python",
   "pygments_lexer": "ipython2",
   "version": "2.7.11+"
  }
 },
 "nbformat": 4,
 "nbformat_minor": 0
}
