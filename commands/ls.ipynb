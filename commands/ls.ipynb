{
 "cells": [
  {
   "cell_type": "code",
   "execution_count": 2,
   "metadata": {
    "collapsed": false
   },
   "outputs": [
    {
     "name": "stdout",
     "output_type": "stream",
     "text": [
      "/home/xiaoqiang/Documents/shell/ls.ipynb\n",
      "/home/xiaoqiang/Documents/shell/README.MD\n",
      "/home/xiaoqiang/Documents/shell/t.sh\n",
      "/home/xiaoqiang/Documents/shell/variate.ipynb\n"
     ]
    }
   ],
   "source": [
    "%%bash\n",
    "# # 列出当前目录的文件、文件夹完整路径\n",
    "# -1 列显示\n",
    "ls -1 |awk '{print i$0}' i=`pwd`'/'\n"
   ]
  },
  {
   "cell_type": "code",
   "execution_count": 3,
   "metadata": {
    "collapsed": false,
    "scrolled": true
   },
   "outputs": [
    {
     "name": "stdout",
     "output_type": "stream",
     "text": [
      "/home/xiaoqiang/Documents/shell/.:\n",
      "/home/xiaoqiang/Documents/shell/ls.ipynb\n",
      "/home/xiaoqiang/Documents/shell/README.MD\n",
      "/home/xiaoqiang/Documents/shell/t.sh\n",
      "/home/xiaoqiang/Documents/shell/variate.ipynb\n"
     ]
    }
   ],
   "source": [
    "%%bash\n",
    "# 列出当前目录及子目录的文件、文件夹完整路径\n",
    "ls -R | awk '{print i$0}' i=`pwd`'/'\n"
   ]
  },
  {
   "cell_type": "code",
   "execution_count": 6,
   "metadata": {
    "collapsed": true
   },
   "outputs": [],
   "source": [
    "%%bash\n",
    "# 列出当前目录及子目录下的文件夹完整路径\n",
    "# find ./ -name \"*\" -exec ls {} \\;\n",
    "ls -FR | grep /$ | sed \"s:^:`pwd`/:\"\n"
   ]
  },
  {
   "cell_type": "code",
   "execution_count": 10,
   "metadata": {
    "collapsed": true
   },
   "outputs": [],
   "source": [
    "%%bash\n",
    "# 递归列出当前目录及子目录名称，包括相关属性\n",
    "ls -lR | grep \"^d\"\n"
   ]
  },
  {
   "cell_type": "code",
   "execution_count": 12,
   "metadata": {
    "collapsed": false
   },
   "outputs": [
    {
     "name": "stderr",
     "output_type": "stream",
     "text": [
      "ls: cannot access '*/': No such file or directory\n"
     ]
    }
   ],
   "source": [
    "%%bash\n",
    "# 只列出当前目录下的子目录\n",
    "ls -d */"
   ]
  },
  {
   "cell_type": "code",
   "execution_count": 22,
   "metadata": {
    "collapsed": false
   },
   "outputs": [
    {
     "name": "stdout",
     "output_type": "stream",
     "text": [
      "$testarr: 1\n",
      "$test{testarr[0]}: 1\n",
      "$test{testarr[-1]}: 5\n",
      "$test{testarr[*]}: 1 2 3 4 5\n",
      "$test{testarr[2]}: \n",
      "$test{testarr[*]}: 1 2 4 5\n"
     ]
    }
   ],
   "source": [
    "%%bash\n",
    "\n",
    "# 可变数组\n",
    "testarr=(1 2 3 4 5)\n",
    "echo \"\\$testarr: \"$testarr\n",
    "echo \"\\$test{testarr[0]}: \"${testarr[0]}\n",
    "echo \"\\$test{testarr[-1]}: \"${testarr[-1]}\n",
    "echo \"\\$test{testarr[*]}: \"${testarr[*]}\n",
    "\n",
    "# unset 删除数组中的某个值\n",
    "unset testarr[2]\n",
    "echo \"\\$test{testarr[2]}: \"${testarr[2]}\n",
    "echo \"\\$test{testarr[*]}: \"${testarr[*]}\n",
    "\n"
   ]
  }
 ],
 "metadata": {
  "kernelspec": {
   "display_name": "Python 2",
   "language": "python",
   "name": "python2"
  },
  "language_info": {
   "codemirror_mode": {
    "name": "ipython",
    "version": 2
   },
   "file_extension": ".py",
   "mimetype": "text/x-python",
   "name": "python",
   "nbconvert_exporter": "python",
   "pygments_lexer": "ipython2",
   "version": "2.7.11+"
  }
 },
 "nbformat": 4,
 "nbformat_minor": 0
}
