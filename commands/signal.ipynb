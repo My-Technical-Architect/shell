{
 "cells": [
  {
   "cell_type": "markdown",
   "metadata": {},
   "source": [
    "# bash 信号处理\n",
    "\n",
    "\n",
    "- ** linux信号 **\n",
    "\n",
    "```bash\n",
    "   1  SIGHUP   挂起进程\n",
    "   2  SIGINT   终止进程\n",
    "   3  SIGQUIT  停止进程\n",
    "   9  SIGKILL  无条件终止进程\n",
    "   15 SIGTERM  可能的话终止进程\n",
    "   17 SIGSTOP  无条件停止进程,但不终止\n",
    "   18 SIGTSTP  停止或者暂停,但不终止\n",
    "   19 SIGCONT  继续运行停止的进程\n",
    "   \n",
    "```\n",
    "\n",
    "- ** 格式 **\n",
    "\n",
    "```bash\n",
    "trap cmds signals\n",
    "\n",
    "例如:\n",
    "    trap \"echo ByeBye\" EXIT     # 捕捉推出信号\n",
    "    trap - EXIT                 # 移除信号捕捉\n",
    "    \n",
    "```\n"
   ]
  },
  {
   "cell_type": "code",
   "execution_count": 2,
   "metadata": {
    "collapsed": false
   },
   "outputs": [
    {
     "name": "stdout",
     "output_type": "stream",
     "text": [
      "This is test program\n",
      "Loop #1\n",
      "Loop #2\n",
      "Loop #3\n",
      "Loop #4\n",
      "Loop #5\n",
      "Loop #6\n",
      "Loop #7\n",
      "Loop #8\n",
      "Loop #9\n",
      "This is the end of test program\n"
     ]
    }
   ],
   "source": [
    "%%bash\n",
    "#!/bin/bash\n",
    "\n",
    "# testing trapping signal\n",
    "\n",
    "trap \"echo 'Sorry! I have trapped Ctrl-C'\" SIGINT SIGTERM\n",
    "echo \"This is test program\"\n",
    "\n",
    "count=1\n",
    "while [ $count -lt 10 ]\n",
    "do\n",
    "    echo \"Loop #$count\"\n",
    "    sleep 3\n",
    "    count=$[ $count + 1 ]\n",
    "done\n",
    "\n",
    "echo \"This is the end of test program\"\n"
   ]
  }
 ],
 "metadata": {
  "kernelspec": {
   "display_name": "Python 2",
   "language": "python",
   "name": "python2"
  },
  "language_info": {
   "codemirror_mode": {
    "name": "ipython",
    "version": 2
   },
   "file_extension": ".py",
   "mimetype": "text/x-python",
   "name": "python",
   "nbconvert_exporter": "python",
   "pygments_lexer": "ipython2",
   "version": "2.7.11+"
  }
 },
 "nbformat": 4,
 "nbformat_minor": 0
}
