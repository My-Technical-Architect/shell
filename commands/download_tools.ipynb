{
 "cells": [
  {
   "cell_type": "markdown",
   "metadata": {},
   "source": [
    "# wget\n"
   ]
  },
  {
   "cell_type": "markdown",
   "metadata": {},
   "source": [
    "# curl\n",
    "\n",
    "## 参数信息\n",
    "\n",
    "```sh\n",
    "-i 显示头部信息\n",
    "-I 只显示头部信息，不显示正文\n",
    "-X 指定请求方法，比如GET、POST等\n",
    "-d 发送数据\n",
    "--form模拟表单，利用这个参数可以上传文件、模拟点击按钮等\n",
    "-A 指定用户代理，比如Mozilla/4.0,有些坑爹网址必须使用IE访问怎么办\n",
    "-b 设置cookie\n",
    "-c 指定cookie文件\n",
    "-e 指定referer，有些网址必须从某个页面跳转过去\n",
    "--header 设置请求的头部信息\n",
    "--user 有些页面需要HTTP认证， 传递name:password认证\n",
    "\n",
    "\n",
    "```\n",
    "\n",
    "\n"
   ]
  },
  {
   "cell_type": "markdown",
   "metadata": {},
   "source": [
    "# axel\n",
    "\n",
    "axel是一个多线程下载工具（A light download accelerator for Linux），通过建立多连接，能够大幅度提高下载速度，所以我经常使用这个命令开挂下载大文件，比wget快多了，并且默认就支持断点下载:\n",
    "\n",
    "```sh\n",
    "# 开启20个线程下载文件\n",
    "axel -n 20 URL\n",
    "\n",
    "```"
   ]
  },
  {
   "cell_type": "code",
   "execution_count": null,
   "metadata": {
    "collapsed": true
   },
   "outputs": [],
   "source": []
  },
  {
   "cell_type": "code",
   "execution_count": null,
   "metadata": {
    "collapsed": true
   },
   "outputs": [],
   "source": []
  }
 ],
 "metadata": {
  "kernelspec": {
   "display_name": "Python 2",
   "language": "python",
   "name": "python2"
  },
  "language_info": {
   "codemirror_mode": {
    "name": "ipython",
    "version": 2
   },
   "file_extension": ".py",
   "mimetype": "text/x-python",
   "name": "python",
   "nbconvert_exporter": "python",
   "pygments_lexer": "ipython2",
   "version": "2.7.10"
  }
 },
 "nbformat": 4,
 "nbformat_minor": 2
}
