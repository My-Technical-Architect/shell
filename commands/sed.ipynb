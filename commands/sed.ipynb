{
 "cells": [
  {
   "cell_type": "markdown",
   "metadata": {},
   "source": [
    "# sed 使用\n",
    "\n",
    "- ** 格式 **\n",
    "\n",
    "```bash\n",
    "    sed options script file\n",
    "    \n",
    "    -e script: 在处理输入时,将script中指定的命令加到运行的命令中\n",
    "    -f file: 在处理输入时, 将file中的命令添加到运行的命令中\n",
    "    -n: 不要为每个命令生成输出, 等待print命令来输出\n",
    "```\n"
   ]
  },
  {
   "cell_type": "markdown",
   "metadata": {},
   "source": [
    "### s命令实例\n",
    "\n",
    "- ** 格式　**\n",
    "\n",
    "```bash\n",
    "    s/pattern/replacement/flags\n",
    "    \n",
    "    flags:\n",
    "        1) 数字:　每行文本第几处模式匹配的地方将被替换\n",
    "        2) g: 替换所有匹配\n",
    "        3) p: 原来行的内容要打印出来\n",
    "        4) w file: 替换的结果写入到文件中 \n",
    "```\n",
    "\n"
   ]
  },
  {
   "cell_type": "code",
   "execution_count": 3,
   "metadata": {
    "collapsed": false
   },
   "outputs": [
    {
     "name": "stdout",
     "output_type": "stream",
     "text": [
      "the quick gree fox jumps over the lazy cat\n"
     ]
    }
   ],
   "source": [
    "%%bash\n",
    "\n",
    "echo \"the quick brown fox jumps over the lazy dog\" | sed -e 's/brown/gree/; s/dog/cat/'"
   ]
  },
  {
   "cell_type": "code",
   "execution_count": 6,
   "metadata": {
    "collapsed": false
   },
   "outputs": [
    {
     "name": "stderr",
     "output_type": "stream",
     "text": [
      "cat: s1.f: No such file or directory\n",
      "bash: line 2: s/brown/gree/: No such file or directory\n",
      "bash: line 3: s/dog/cat/: No such file or directory\n",
      "sed: couldn't open file s1.f: No such file or directory\n"
     ]
    }
   ],
   "source": [
    "%%bash\n",
    "cat s1.f\n",
    "s/brown/gree/\n",
    "s/dog/cat/\n",
    "\n",
    "echo \"the quick brown fox jumps over the lazy dog\" | sed -f s1.f"
   ]
  },
  {
   "cell_type": "code",
   "execution_count": 14,
   "metadata": {
    "collapsed": false
   },
   "outputs": [
    {
     "name": "stdout",
     "output_type": "stream",
     "text": [
      "the quick gree fox jumps over the lazy dog\n"
     ]
    }
   ],
   "source": [
    "%%bash\n",
    "\n",
    "# -n: 禁止sed编辑器出书\n",
    "# -p: 会输出替换修改过的行\n",
    "# 二者配合只会输出替换修改过的行\n",
    "\n",
    "echo \"the quick brown fox jumps over the lazy dog\" | sed -n 's/brown/gree/p'\n"
   ]
  },
  {
   "cell_type": "code",
   "execution_count": 20,
   "metadata": {
    "collapsed": false
   },
   "outputs": [
    {
     "name": "stdout",
     "output_type": "stream",
     "text": [
      "/rootqiang/test\n",
      "/rootqiang/test\n"
     ]
    }
   ],
   "source": [
    "%%bash\n",
    "\n",
    "# 替换字符\n",
    "# 可以使用其他字符替换反斜线作为sed的分隔符\n",
    "\n",
    "echo /home/xiaoqiang/test | sed 's/\\/home\\/xiao/\\/root/'\n",
    "echo /home/xiaoqiang/test | sed 's!/home/xiao!/root!'"
   ]
  },
  {
   "cell_type": "code",
   "execution_count": 25,
   "metadata": {
    "collapsed": false
   },
   "outputs": [
    {
     "name": "stdout",
     "output_type": "stream",
     "text": [
      "The quick brown fox jumps over the lazy dog\n",
      "The quick brown fox jumps over the lazy dog\n",
      "The quick brown fox1 jumps over the lazy dog\n",
      "The quick brown fox1 jumps over the lazy dog\n"
     ]
    }
   ],
   "source": [
    "%%bash\n",
    "# 数据文件\n",
    "cat ./data.d"
   ]
  },
  {
   "cell_type": "code",
   "execution_count": 26,
   "metadata": {
    "collapsed": false
   },
   "outputs": [
    {
     "name": "stdout",
     "output_type": "stream",
     "text": [
      "The quick brown fox jumps over the lazy dog\n",
      "The quick brown fox jumps over the lazy cat\n",
      "The quick brown fox1 jumps over the lazy cat\n",
      "The quick brown fox1 jumps over the lazy dog\n"
     ]
    }
   ],
   "source": [
    "%%bash\n",
    "\n",
    "# 使用地址: 行的数字范围\n",
    "\n",
    "sed '2,3s/dog/cat/' ./data.d"
   ]
  },
  {
   "cell_type": "code",
   "execution_count": 27,
   "metadata": {
    "collapsed": false
   },
   "outputs": [
    {
     "name": "stdout",
     "output_type": "stream",
     "text": [
      "The quick brown fox jumps over the lazy dog\n",
      "The quick brown fox jumps over the lazy dog\n",
      "The quick brown fox1 jumps over the lazy cat\n",
      "The quick brown fox1 jumps over the lazy cat\n"
     ]
    }
   ],
   "source": [
    "%%bash\n",
    "\n",
    "# 使用地址: 文本过滤器\n",
    "\n",
    "sed '/fox1/s/dog/cat/' ./data.d"
   ]
  },
  {
   "cell_type": "code",
   "execution_count": 36,
   "metadata": {
    "collapsed": false
   },
   "outputs": [
    {
     "name": "stdout",
     "output_type": "stream",
     "text": [
      "The quick brown fox jumps over the lazy dog\n",
      "The quick brown elephant jumps over the lazy cat\n",
      "The quick brown fox1 jumps over the lazy dog\n",
      "The quick brown fox1 jumps over the lazy dog\n"
     ]
    }
   ],
   "source": [
    "%%bash\n",
    "\n",
    "sed '2s/fox/elephant/; 2s/dog/cat/' ./data.d"
   ]
  },
  {
   "cell_type": "markdown",
   "metadata": {},
   "source": [
    "### d命令实例\n",
    "\n",
    "\n"
   ]
  },
  {
   "cell_type": "code",
   "execution_count": 40,
   "metadata": {
    "collapsed": false
   },
   "outputs": [
    {
     "name": "stdout",
     "output_type": "stream",
     "text": [
      "The quick brown fox jumps over the lazy dog\n",
      "The quick brown fox1 jumps over the lazy dog\n",
      "The quick brown fox1 jumps over the lazy dog\n",
      "-------------------------------\n",
      "The quick brown fox jumps over the lazy dog\n",
      "The quick brown fox1 jumps over the lazy dog\n",
      "-------------------------------\n",
      "The quick brown fox jumps over the lazy dog\n",
      "The quick brown fox jumps over the lazy dog\n",
      "-------------------------------\n",
      "The quick brown fox jumps over the lazy dog\n",
      "The quick brown fox jumps over the lazy dog\n"
     ]
    }
   ],
   "source": [
    "%%bash\n",
    "\n",
    "sed '2d' ./data.d\n",
    "echo \"-------------------------------\"\n",
    "sed '2,3d' ./data.d\n",
    "echo \"-------------------------------\"\n",
    "sed '/fox1/d' ./data.d\n",
    "echo \"-------------------------------\"\n",
    "sed '/fox1 jumps/,/fox1 jumps/d' ./data.d"
   ]
  },
  {
   "cell_type": "markdown",
   "metadata": {},
   "source": [
    "### i/a 插入命令\n",
    "\n",
    "i: 会在指定行前面增加一个新行\n",
    "a: 会在指定行的后面追加一个新行\n",
    "\n",
    "- ** 格式 **\n",
    "\n",
    "```bash\n",
    "    sed '[address]cmds new line'\n",
    "```"
   ]
  },
  {
   "cell_type": "code",
   "execution_count": 50,
   "metadata": {
    "collapsed": false
   },
   "outputs": [
    {
     "name": "stdout",
     "output_type": "stream",
     "text": [
      "Test line1\n",
      "Test line2\n",
      "-------------------------------\n",
      "Test line2\n",
      "Test line1\n",
      "-------------------------------\n",
      "Test line2\n"
     ]
    }
   ],
   "source": [
    "%%bash\n",
    "echo \"Test line2\" | sed 'i\\Test line1'\n",
    "echo \"-------------------------------\"\n",
    "echo \"Test line2\" | sed 'a\\Test line1'\n",
    "echo \"-------------------------------\"\n",
    "echo \"Test line2\" | sed '3i\\Test line1'\n"
   ]
  },
  {
   "cell_type": "markdown",
   "metadata": {},
   "source": [
    "### c 修改行"
   ]
  },
  {
   "cell_type": "code",
   "execution_count": 51,
   "metadata": {
    "collapsed": false
   },
   "outputs": [
    {
     "name": "stdout",
     "output_type": "stream",
     "text": [
      "The quick brown fox jumps over the lazy dog\n",
      "The quick brown fox jumps over the lazy dog\n",
      "The quick brown fox1 jumps over the lazy dog\n",
      "The quick brown fox1 jumps over the lazy dog\n"
     ]
    }
   ],
   "source": [
    "%%bash\n",
    "\n",
    "cat ./data.d"
   ]
  },
  {
   "cell_type": "code",
   "execution_count": 54,
   "metadata": {
    "collapsed": false
   },
   "outputs": [
    {
     "name": "stdout",
     "output_type": "stream",
     "text": [
      "The quick brown fox jumps over the lazy dog\n",
      "The quick brown fox jumps over the lazy dog\n",
      "this is a changed line of text.\n",
      "The quick brown fox1 jumps over the lazy dog\n",
      "---------------------------------------\n",
      "The quick brown fox jumps over the lazy dog\n",
      "The quick brown fox jumps over the lazy dog\n",
      "This is a changed line of text\n",
      "This is a changed line of text\n",
      "---------------------------------------\n",
      "The quick brown fox jumps over the lazy dog\n",
      "This is a changed line of text\n",
      "The quick brown fox1 jumps over the lazy dog\n"
     ]
    }
   ],
   "source": [
    "%%bash\n",
    "\n",
    "sed '3c\\this is a changed line of text.' ./data.d\n",
    "echo \"---------------------------------------\"\n",
    "sed '/fox1/c\\This is a changed line of text' ./data.d\n",
    "echo \"---------------------------------------\"\n",
    "sed '2,3c\\This is a changed line of text' ./data.d"
   ]
  },
  {
   "cell_type": "markdown",
   "metadata": {
    "collapsed": true
   },
   "source": [
    "### y 转换命令\n",
    "\n",
    "- ** 格式 **\n",
    "\n",
    "```bash\n",
    "    [address]/y/inchars/outchars/\n",
    "```\n"
   ]
  },
  {
   "cell_type": "code",
   "execution_count": 1,
   "metadata": {
    "collapsed": false
   },
   "outputs": [
    {
     "name": "stdout",
     "output_type": "stream",
     "text": [
      "8 9 9 4 5\n"
     ]
    }
   ],
   "source": [
    "%%bash\n",
    "\n",
    "echo \"1 2 3 4 5\" | sed 'y/123/899/'\n",
    "\n"
   ]
  },
  {
   "cell_type": "markdown",
   "metadata": {},
   "source": [
    "### 回顾打印\n",
    "\n",
    "```bash\n",
    "    小写p打印文本行\n",
    "    =号命令打印行号\n",
    "    l命令列出行\n",
    "```\n",
    "\n"
   ]
  },
  {
   "cell_type": "code",
   "execution_count": 3,
   "metadata": {
    "collapsed": false
   },
   "outputs": [
    {
     "name": "stdout",
     "output_type": "stream",
     "text": [
      "This is a test\n"
     ]
    }
   ],
   "source": [
    "%%bash\n",
    "# -n 可禁止其他行, 只打印包含匹文本配模式的行\n",
    "echo \"This is a test\" | sed -n '/This/p'\n"
   ]
  },
  {
   "cell_type": "code",
   "execution_count": 13,
   "metadata": {
    "collapsed": false
   },
   "outputs": [
    {
     "name": "stdout",
     "output_type": "stream",
     "text": [
      "The quick brown fox jumps over the lazy dog\n",
      "The quick brown fox jumps over the lazy dog\n",
      "The quick brown fox1 jumps over the lazy dog\n",
      "The quick brown fox1 jumps over the lazy dog\n",
      "-------------------\n",
      "-------------------\n",
      "1\n",
      "The quick brown fox jumps over the lazy dog\n",
      "2\n",
      "The quick brown fox jumps over the lazy dog\n",
      "3\n",
      "The quick brown fox1 jumps over the lazy dog\n",
      "4\n",
      "The quick brown fox1 jumps over the lazy dog\n",
      "-------------------\n",
      "The quick brown fox jumps over the lazy dog$\n",
      "The quick brown fox jumps over the lazy dog$\n",
      "The quick brown fox1 jumps over the lazy dog$\n",
      "The quick brown fox1 jumps over the lazy dog$\n"
     ]
    }
   ],
   "source": [
    "%%bash\n",
    "cat ./data.d\n",
    "echo \"-------------------\"\n",
    "\n",
    "# sed -n '/3/{p ; /dog/cat/p}' ./data.d\n",
    "\n",
    "\n",
    "echo \"-------------------\"\n",
    "\n",
    "sed '=' ./data.d\n",
    "echo \"-------------------\"\n",
    "\n",
    "sed -n 'l' ./data.d"
   ]
  },
  {
   "cell_type": "markdown",
   "metadata": {},
   "source": [
    "# sed 高级\n"
   ]
  },
  {
   "cell_type": "markdown",
   "metadata": {},
   "source": [
    "```bash\n",
    "    1. next 命令\n",
    "    sed '/fox/{n ; d}' ./data.d     # 找到fox相匹配的行,并移动到下一行,并且删除下一行\n",
    "    \n",
    "    sed 'G' file      # 向文本文件中插入空白行\n",
    "    sed '$!G' file    # 文本最后一行不插入空行\n",
    "    sed '=' file | sed 'N; s/\\n/ /'      # 给文件中的行编号\n",
    "    \n",
    "    sed -n '$p' file    # 打印末尾行\n",
    "    \n",
    "    \n",
    "\n",
    "```\n"
   ]
  },
  {
   "cell_type": "code",
   "execution_count": 14,
   "metadata": {
    "collapsed": false
   },
   "outputs": [
    {
     "name": "stdout",
     "output_type": "stream",
     "text": [
      "This is the header line\n",
      "This is the first data line\n",
      "This is the second data line\n",
      "This is the last line\n"
     ]
    }
   ],
   "source": [
    "%%bash\n",
    "cat ./data1.d"
   ]
  },
  {
   "cell_type": "code",
   "execution_count": 31,
   "metadata": {
    "collapsed": false
   },
   "outputs": [
    {
     "name": "stdout",
     "output_type": "stream",
     "text": [
      "This is the header line\n",
      "This is the first data line This is the second data line\n",
      "This is the last line\n"
     ]
    }
   ],
   "source": [
    "%%bash\n",
    "# 找到first行, 连同其下一行一起进行处理\n",
    "\n",
    "sed '/first/{ N; s/\\n/ / }' ./data1.d"
   ]
  },
  {
   "cell_type": "code",
   "execution_count": 33,
   "metadata": {
    "collapsed": false
   },
   "outputs": [
    {
     "name": "stdout",
     "output_type": "stream",
     "text": [
      "This is the first data line\n",
      "This is the second data line\n",
      "This is the last line\n"
     ]
    }
   ],
   "source": [
    "%%bash\n",
    "\n",
    "# 排除命令\n",
    "\n",
    "sed -n '/header/!p' ./data1.d"
   ]
  }
 ],
 "metadata": {
  "kernelspec": {
   "display_name": "Python 2",
   "language": "python",
   "name": "python2"
  },
  "language_info": {
   "codemirror_mode": {
    "name": "ipython",
    "version": 2
   },
   "file_extension": ".py",
   "mimetype": "text/x-python",
   "name": "python",
   "nbconvert_exporter": "python",
   "pygments_lexer": "ipython2",
   "version": "2.7.11+"
  }
 },
 "nbformat": 4,
 "nbformat_minor": 0
}
