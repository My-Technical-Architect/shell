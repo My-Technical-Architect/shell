{
 "cells": [
  {
   "cell_type": "code",
   "execution_count": 2,
   "metadata": {
    "collapsed": false
   },
   "outputs": [
    {
     "name": "stdout",
     "output_type": "stream",
     "text": [
      "8\t./awk.ipynb\n",
      "8\t./calc.ipynb\n",
      "8\t./condition.ipynb\n",
      "4\t./data1.d\n",
      "4\t./data2.d\n",
      "4\t./data3.d\n",
      "4\t./data4.d\n",
      "4\t./data5.d\n",
      "4\t./data.d\n",
      "4\t./function.ipynb\n",
      "0\t./hockey\n",
      "4\t./loop.ipynb\n",
      "4\t./ls.ipynb\n",
      "8\t./markdown-example.ipynb\n",
      "16\t./mysql\n",
      "4\t./net.ipynb\n",
      "4\t./README.MD\n",
      "16\t./sed.ipynb\n",
      "4\t./signal.ipynb\n",
      "4\t./signal.sh\n",
      "4\t./sort.ipynb\n",
      "8\t./strace.ipynb\n",
      "4\t./sys-manage.ipynb\n",
      "4\t./t.sh\n",
      "4\t./until.ipynb\n",
      "4\t./Untitled.ipynb\n",
      "0\t./untitled.txt\n",
      "8\t./variate.ipynb\n",
      "4\t./while.ipynb\n",
      "44\t./.git/hooks\n",
      "8\t./.git/info\n",
      "4\t./.git/objects/pack\n",
      "12\t./.git/objects/9f\n",
      "8\t./.git/objects/ce\n",
      "8\t./.git/objects/cf\n",
      "8\t./.git/objects/c7\n",
      "8\t./.git/objects/9e\n",
      "8\t./.git/objects/96\n",
      "4\t./.git/objects/info\n",
      "8\t./.git/objects/0b\n",
      "12\t./.git/objects/70\n",
      "8\t./.git/objects/b0\n",
      "8\t./.git/objects/8e\n",
      "8\t./.git/objects/6b\n",
      "8\t./.git/objects/75\n",
      "8\t./.git/objects/2d\n",
      "8\t./.git/objects/03\n",
      "8\t./.git/objects/28\n",
      "8\t./.git/objects/e5\n",
      "12\t./.git/objects/5c\n",
      "8\t./.git/objects/01\n",
      "4\t./.git/objects\n",
      "4\t./.git/refs/tags\n",
      "8\t./.git/refs/remotes/origin\n",
      "4\t./.git/refs/remotes\n",
      "8\t./.git/refs/heads\n",
      "4\t./.git/refs\n",
      "4\t./.git/branches\n",
      "8\t./.git/logs/refs/remotes/origin\n",
      "4\t./.git/logs/refs/remotes\n",
      "8\t./.git/logs/refs/heads\n",
      "4\t./.git/logs/refs\n",
      "8\t./.git/logs\n",
      "24\t./.git\n",
      "76\t./.ipynb_checkpoints\n",
      "8\t./mysql/.ipynb_checkpoints\n",
      "8\t./mysql\n",
      "144\t./\n"
     ]
    }
   ],
   "source": [
    "%%bash\n",
    "\n",
    "# -s: 在目录一级总体使用情况\n",
    "# -S: 为每个目录和子目录分别进行统计\n",
    "\n",
    "du -s ./*\n",
    "du -S ./\n",
    "\n",
    "du -lh --max-depth=1"
   ]
  }
 ],
 "metadata": {
  "kernelspec": {
   "display_name": "Python 2",
   "language": "python",
   "name": "python2"
  },
  "language_info": {
   "codemirror_mode": {
    "name": "ipython",
    "version": 2
   },
   "file_extension": ".py",
   "mimetype": "text/x-python",
   "name": "python",
   "nbconvert_exporter": "python",
   "pygments_lexer": "ipython2",
   "version": "2.7.10"
  }
 },
 "nbformat": 4,
 "nbformat_minor": 0
}
