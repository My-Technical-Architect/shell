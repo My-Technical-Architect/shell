{
 "cells": [
  {
   "cell_type": "markdown",
   "metadata": {},
   "source": [
    "# date 时间计算\n",
    "\n",
    "```sh\n",
    "\n",
    "## 将日期转换为Unix时间戳\n",
    "# 将当前时间以Unix时间戳表示, seconds since 1970-01-01 00:00:00 UTC\n",
    "date +%s\n",
    "# 转换指定日期为Unix时间戳：\n",
    "date -d '2017-04-11 10:00:00' +%s\n",
    "\n",
    "## 将Unix时间戳转换为日期时间\n",
    "# 不指定日期时间的格式\n",
    "date -d @1491876000\n",
    "# 指定日期格式的转换\n",
    "date -d @1491876000 +\"%Y-%m-%d %H:%M:%S\"\n",
    "\n",
    "```\n",
    "\n",
    "\n",
    "```sh\n",
    "# 三天之前（mac上不能执行）\n",
    "date +%Y%m%d --date '3 days ago'\n",
    "\n",
    "\n",
    "now=`date +%Y%m%d`\n",
    "seconds=`date -d \"$now\" +%s`\n",
    "\n",
    "# delete 7 days ago\n",
    "seven_day_seconds=$[3600*24*7]\n",
    "seven_day_ago_seconds=$[seconds-$seven_day_seconds]\n",
    "seven_day_ago=`date -d @$seven_day_ago_seconds \"+%Y/%m/%d\"`\n",
    "\n",
    "echo \"now=$now, seven_day_ago=$seven_day_ago\"\n",
    "\n",
    "\n",
    "# date -d next monday'（下周一的日期）\n",
    "# date -d next-day +%Y%m%d（明天的日期）\n",
    "# date -d tomorrow +%Y%m%d\n",
    "# date -d last-day +%Y%m%d（昨天的日期） \n",
    "# date -d yesterday +%Y%m%d\n",
    "# date -d last-month +%Y%m（上个月是几月）\n",
    "# date -d next-month +%Y%m（下个月是几月）\n",
    "\n",
    "# date -d ’dec 14 -2 weeks’ （相对：dec 14这个日期的两周前的日期）\n",
    "# date -d ’-100 days’ （100天以前的日期）\n",
    "# date -d ’50 days’（50天后的日期）\n",
    "\n",
    "```\n",
    "\n",
    "\n"
   ]
  }
 ],
 "metadata": {
  "kernelspec": {
   "display_name": "Python 2",
   "language": "python",
   "name": "python2"
  },
  "language_info": {
   "codemirror_mode": {
    "name": "ipython",
    "version": 2
   },
   "file_extension": ".py",
   "mimetype": "text/x-python",
   "name": "python",
   "nbconvert_exporter": "python",
   "pygments_lexer": "ipython2",
   "version": "2.7.10"
  }
 },
 "nbformat": 4,
 "nbformat_minor": 2
}
