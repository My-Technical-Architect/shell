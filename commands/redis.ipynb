{
 "cells": [
  {
   "cell_type": "markdown",
   "metadata": {},
   "source": [
    "# install\n",
    "## mac install\n",
    "\n",
    "```sh\n",
    "brew install redis\n",
    "# 配置文件\n",
    "/usr/local/etc/redis.conf\n",
    "\n",
    "# 可在redis.conf 中的requirepass 设置密码\n",
    "\n",
    "# 启动服务\n",
    "sudo ./redis-server\n",
    "\n",
    "# 客户端登录\n",
    "redis-cli -h 127.0.0.1 -p 6379 -a XXX\n",
    "\n",
    "```\n"
   ]
  }
 ],
 "metadata": {
  "kernelspec": {
   "display_name": "Python 2",
   "language": "python",
   "name": "python2"
  },
  "language_info": {
   "codemirror_mode": {
    "name": "ipython",
    "version": 2
   },
   "file_extension": ".py",
   "mimetype": "text/x-python",
   "name": "python",
   "nbconvert_exporter": "python",
   "pygments_lexer": "ipython2",
   "version": "2.7.5"
  }
 },
 "nbformat": 4,
 "nbformat_minor": 2
}
