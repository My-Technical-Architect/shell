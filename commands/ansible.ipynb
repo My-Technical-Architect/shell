{
 "cells": [
  {
   "cell_type": "markdown",
   "metadata": {},
   "source": [
    "# 安装\n",
    "\n",
    "```sh\n",
    "sudo esay_install ansible\n",
    "# 或者\n",
    "sudo pip install ansible\n",
    "yum install ansible\n",
    "\n",
    "```\n",
    "\n",
    "# 配置\n",
    "\n",
    "## ansible 执行顺序\n",
    "\n",
    "```sh\n",
    "ansible执行的时候会按照以下顺序查找配置项:\n",
    "* ANSIBLE_CONFIG (环境变量)\n",
    "* ansible.cfg (当前目录下)\n",
    "* .ansible.cfg (用户家目录下)\n",
    "* /etc/ansible/ansible.cfg\n",
    "```\n",
    "\n",
    "\n",
    "## hosts配置\n",
    "\n",
    "\n",
    "```sh\n",
    "cat ~/.hosts\n",
    "# hosts\n",
    "[local]\n",
    "127.0.0.1\n",
    "\n",
    "ansible -i ~/hosts all -a 'who'\n",
    "这是一条ad-hoc命令——临时执行命令，ad-hoc是ansible里的一个概念, 在上面命令中就是 -a\n",
    "ad hoc——临时的，在ansible中是指需要快速执行，并且不需要保存的命令。说白了就是执行简单的命令——一条命令\n",
    "\n",
    "```\n",
    "\n",
    "## 模块\n",
    "\n",
    "```sh\n",
    "在ansible中还有一个Module（模块）的概念，这个模块可以理解为一个库，所有的命令都需要通过模块来执行，比如上面的那个命令: ansible-i ~/hosts all -a 'who' ，其实是调用了默认的command模块: ansible -i ~/hosts all -mcommand -a 'who' ,除了command模块还有其他很多模块，比如你就想ping下这个服务器是不是还存在可以通过ping模块: ansible -i ~/hosts all -m ping 。\n",
    "\n",
    "```\n"
   ]
  }
 ],
 "metadata": {
  "kernelspec": {
   "display_name": "Python 2",
   "language": "python",
   "name": "python2"
  },
  "language_info": {
   "codemirror_mode": {
    "name": "ipython",
    "version": 2
   },
   "file_extension": ".py",
   "mimetype": "text/x-python",
   "name": "python",
   "nbconvert_exporter": "python",
   "pygments_lexer": "ipython2",
   "version": "2.7.10"
  }
 },
 "nbformat": 4,
 "nbformat_minor": 2
}
