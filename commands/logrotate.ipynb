{
 "cells": [
  {
   "cell_type": "markdown",
   "metadata": {},
   "source": [
    "# logrotate 使用\n",
    "\n",
    "\n",
    "### 参数说明\n",
    "\n",
    "monthly: 日志文件将按月轮循。其它可用值为‘daily’，‘weekly’或者‘yearly’。\n",
    "\n",
    "rotate 5: 一次将存储5个归档日志。对于第六个归档，时间最久的归档将被删除。\n",
    "\n",
    "compress: 在轮循任务完成后，已轮循的归档将使用gzip进行压缩。\n",
    "\n",
    "delaycompress: 总是与compress选项一起用，delaycompress选项指示logrotate不要将最近的归档压缩，压缩将在下一次轮循周期进行。这在你或任何软件仍然需要读取最新归档时很有用。\n",
    "\n",
    "missingok: 在日志轮循期间，任何错误将被忽略，例如“文件无法找到”之类的错误。\n",
    "\n",
    "notifempty: 如果日志文件为空，轮循不会进行。\n",
    "\n",
    "create 644 root root: 以指定的权限创建全新的日志文件，同时logrotate也会重命名原始日志文件。\n",
    "\n",
    "postrotate/endscript: 在所有其它指令完成后，postrotate和endscript里面指定的命令将被执行。在这种情况下，rsyslogd 进程将立即再次读取其配置并继续运行。\n",
    "\n",
    "上面的模板是通用的，而配置参数则根据你的需求进行调整，不是所有的参数都是必要的。\n",
    "\n",
    "\n",
    "\n",
    "\n",
    "- 实例\n",
    "\n",
    "\n",
    "```sh\n",
    "# 执行任务在 /etc/cron.daily/logrotate*\n",
    "\n",
    "cd /etc/logrotate.d\n",
    "cat recommend_data_collect.log\n",
    "/data/logs/recommend_data_collect.log {\n",
    "    daily\n",
    "    missingok\n",
    "    rotate 7\n",
    "    notifempty\n",
    "    dateext\n",
    "    create 664 root root\n",
    "    sharedscripts\n",
    "    postrotate\n",
    "        /usr/bin/killall -HUP rsyslogd\n",
    "    endscript\n",
    "}\n",
    "\n",
    "```\n",
    "\n",
    "\n"
   ]
  }
 ],
 "metadata": {
  "kernelspec": {
   "display_name": "Python 2",
   "language": "python",
   "name": "python2"
  },
  "language_info": {
   "codemirror_mode": {
    "name": "ipython",
    "version": 2
   },
   "file_extension": ".py",
   "mimetype": "text/x-python",
   "name": "python",
   "nbconvert_exporter": "python",
   "pygments_lexer": "ipython2",
   "version": "2.7.10"
  }
 },
 "nbformat": 4,
 "nbformat_minor": 2
}
