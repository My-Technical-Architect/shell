{
 "cells": [
  {
   "cell_type": "code",
   "execution_count": null,
   "metadata": {
    "collapsed": true
   },
   "outputs": [],
   "source": []
  },
  {
   "cell_type": "markdown",
   "metadata": {},
   "source": [
    "# for 循环\n",
    "- ** 格式 **\n",
    "\n",
    "```bash\n",
    "    for var in list\n",
    "    do\n",
    "        cmds\n",
    "    done\n",
    "```\n",
    "\n",
    "- ** list 以空格分割　**\n",
    "\n",
    "- ** 分隔符 **\n",
    "\n",
    "```\n",
    "IFS环境变量定义了bash shell中的分隔符,默认值是: 空格, 制表符, 换行符\n",
    "\n",
    "指定换行符IFS=$'\\n'(忽略空格和制表符), IFS=:, IFS=$'\\n:;'\"\n",
    "``` \n",
    "\n",
    "\n",
    "\n"
   ]
  },
  {
   "cell_type": "code",
   "execution_count": 3,
   "metadata": {
    "collapsed": false
   },
   "outputs": [
    {
     "name": "stdout",
     "output_type": "stream",
     "text": [
      "123 234\n"
     ]
    }
   ],
   "source": [
    "%%bash\n",
    "\n",
    "IFS=$'\\n'\n",
    "\n",
    "\n"
   ]
  }
 ],
 "metadata": {
  "kernelspec": {
   "display_name": "Python 2",
   "language": "python",
   "name": "python2"
  },
  "language_info": {
   "codemirror_mode": {
    "name": "ipython",
    "version": 2
   },
   "file_extension": ".py",
   "mimetype": "text/x-python",
   "name": "python",
   "nbconvert_exporter": "python",
   "pygments_lexer": "ipython2",
   "version": "2.7.11+"
  }
 },
 "nbformat": 4,
 "nbformat_minor": 0
}
