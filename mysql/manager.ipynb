{
 "cells": [
  {
   "cell_type": "markdown",
   "metadata": {},
   "source": [
    "# 创建用户\n",
    "\n",
    "```sh\n",
    "CREATE USER 'hive'@'hadoop02' IDENTIFIED BY 'hive';\n",
    "CREATE USER 'hive'@'hadoop01' IDENTIFIED BY 'hive';\n",
    "GRANT ALL PRIVILEGES ON *.* TO 'hive'@'hadoop02' WITH GRANT OPTION;\n",
    "GRANT ALL PRIVILEGES ON *.* TO 'hive'@'hadoop01' WITH GRANT OPTION;\n",
    "flush privileges;\n",
    "alter database  hive character set latin1;\n",
    "\n",
    "\n",
    "# 查看字符集\n",
    "show variables like 'collation_%';\n",
    "show variables like 'character_set_%';\n",
    "\n",
    "```\n",
    "\n",
    "\n"
   ]
  }
 ],
 "metadata": {
  "kernelspec": {
   "display_name": "Python 2",
   "language": "python",
   "name": "python2"
  },
  "language_info": {
   "codemirror_mode": {
    "name": "ipython",
    "version": 2
   },
   "file_extension": ".py",
   "mimetype": "text/x-python",
   "name": "python",
   "nbconvert_exporter": "python",
   "pygments_lexer": "ipython2",
   "version": "2.7.10"
  }
 },
 "nbformat": 4,
 "nbformat_minor": 2
}
