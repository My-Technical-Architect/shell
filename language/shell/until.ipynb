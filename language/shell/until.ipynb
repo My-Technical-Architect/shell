{
 "cells": [
  {
   "cell_type": "markdown",
   "metadata": {},
   "source": [
    "# until \n",
    "\n",
    "- ** 格式 **\n",
    "\n",
    "```bash\n",
    "    until test cmds\n",
    "    do\n",
    "        cmds\n",
    "    done\n",
    "    \n",
    "```\n",
    "\n",
    "- ** **"
   ]
  },
  {
   "cell_type": "code",
   "execution_count": 1,
   "metadata": {
    "collapsed": false
   },
   "outputs": [
    {
     "name": "stdout",
     "output_type": "stream",
     "text": [
      "100\n",
      "75\n",
      "50\n",
      "25\n"
     ]
    }
   ],
   "source": [
    "%%bash\n",
    "\n",
    "val=100\n",
    "\n",
    "until [ $val -eq 0 ]\n",
    "do\n",
    "    echo $val\n",
    "    val=$[ $val - 25 ]\n",
    "done"
   ]
  }
 ],
 "metadata": {
  "kernelspec": {
   "display_name": "Python 2",
   "language": "python",
   "name": "python2"
  },
  "language_info": {
   "codemirror_mode": {
    "name": "ipython",
    "version": 2
   },
   "file_extension": ".py",
   "mimetype": "text/x-python",
   "name": "python",
   "nbconvert_exporter": "python",
   "pygments_lexer": "ipython2",
   "version": "2.7.11+"
  }
 },
 "nbformat": 4,
 "nbformat_minor": 0
}
