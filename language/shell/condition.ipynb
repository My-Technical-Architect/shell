{
 "cells": [
  {
   "cell_type": "markdown",
   "metadata": {},
   "source": [
    "# if then 条件\n",
    "\n",
    "***\n",
    "```bash\n",
    "    if cmd; then\n",
    "    elif cmd; then\n",
    "    \n",
    "    elif cmd; then\n",
    "    \n",
    "    else\n",
    "        cmds\n",
    "    fi\n",
    "```\n",
    "***"
   ]
  },
  {
   "cell_type": "markdown",
   "metadata": {},
   "source": [
    "\n",
    "### 两种方式test命令\n",
    "* 格式\n",
    "\n",
    "> if test condition\n",
    "> then\n",
    "\n",
    "> fi\n",
    "\n",
    "\n",
    "> if [ condition ]\n",
    "> then\n",
    "\n",
    "> fi\n",
    "\n",
    "* 可判断条件\n",
    "\n",
    ">　数值比较　（浮点数不能比较）\n",
    "```\n",
    "    -eq\n",
    "    -gt\n",
    "    -ge\n",
    "    -lt\n",
    "    -le\n",
    "    -ne\n",
    "```\n",
    "\n",
    "> 字符串比较　\n",
    "```\n",
    "    ==\n",
    "    !=\n",
    "    <>\n",
    "    -n str   检查str长度是否非0\n",
    "    -z str   检查str长度是否为0\n",
    "```\n",
    "\n",
    "> 文件比较　\n",
    "\n",
    "### 符合条件测试\n",
    "[ condition1 ] && [ condition2 ]\n",
    "\n",
    "[ condition1 ] || [ condition2 ]\n",
    "\n",
    "\n",
    "### if-then高级特性\n",
    "* (( expression )):　高级数学表达式\n",
    "```\n",
    "    支持\n",
    "    val ++\n",
    "    val --\n",
    "    ++ val\n",
    "    -- val\n",
    "    !\n",
    "    ~\n",
    "    **\n",
    "    <<\n",
    "    >>\n",
    "    &\n",
    "    |\n",
    "    &&\n",
    "    ||\n",
    "```\n",
    "\n",
    "* [[ expression ]]: 高级字符串处理\n",
    "\n",
    "**expression 采用test命令中标准字符串比较,特性--模式匹配**\n",
    "\n",
    "### case 命令\n",
    "```\n",
    "case variable in\n",
    "pattern1 | pattern2) commands1;;\n",
    "pattern2) commands2;;\n",
    "*) default commands;;\n",
    "\n",
    "esac\n",
    "\n",
    "```"
   ]
  },
  {
   "cell_type": "code",
   "execution_count": 22,
   "metadata": {
    "collapsed": false
   },
   "outputs": [
    {
     "name": "stdout",
     "output_type": "stream",
     "text": [
      "testuser = myuser\n",
      "testuser = myuser else\n",
      "baseball <= hockey\n",
      "Test <= test\n",
      "=========================\n",
      "The string 'testing' is not empty\n",
      "The string '' is empty\n"
     ]
    }
   ],
   "source": [
    "%%bash\n",
    "\n",
    "# 字符串比较\n",
    "# > and < 比较,必须使用转义,否则视为重定向\n",
    "# -n -z 判断字符串中是否含有数据\n",
    "\n",
    "testuser=rich\n",
    "myuser=rich\n",
    "\n",
    "if [ $testuser = $myuser ]; then\n",
    "    echo \"testuser = myuser\"\n",
    "fi\n",
    "\n",
    "if [ $testuser != $myuser ]\n",
    "then\n",
    "    echo \"testuser != myuser\"\n",
    "else\n",
    "    echo \"testuser = myuser else\"\n",
    "fi\n",
    "\n",
    "\n",
    "val1=baseball\n",
    "val2=hockey\n",
    "\n",
    "if [ $val1 \\> $val2 ]; then\n",
    "    echo \"$val1 > $val2\"\n",
    "else\n",
    "    echo \"$val1 <= $val2\"\n",
    "fi\n",
    "\n",
    "\n",
    "val1=Test\n",
    "val2=test\n",
    "\n",
    "if [ $val1 \\> $val2 ]; then\n",
    "    echo \"$val1 > $val2\"\n",
    "else\n",
    "    echo \"$val1 <= $val2\"\n",
    "fi\n",
    "\n",
    "echo \"=========================\"\n",
    "val1=testing\n",
    "val2=''\n",
    "\n",
    "if [ -n $val1 ]; then\n",
    "    echo \"The string '$val1' is not empty\"\n",
    "else\n",
    "    echo \"The string '$val1' is empty\"\n",
    "fi\n",
    "\n",
    "if [ -z $val2 ]; then\n",
    "    echo \"The string '$val2' is empty\"\n",
    "else\n",
    "    echo \"The string '$val2' is not empty\"\n",
    "fi\n",
    "    \n"
   ]
  },
  {
   "cell_type": "markdown",
   "metadata": {},
   "source": [
    "### 文件比较\n",
    "test命令的文件比较功能 \n",
    "\n",
    "-d file\t\t检查file是否存在并且是一个目录 \n",
    "\n",
    "-f file\t\t检查file是否存在并且是一个文件 \n",
    "\n",
    "-e file\t\t检查file是否存在 \n",
    "\n",
    "-r file\t\t检查file是否存在并且可读\n",
    "\n",
    "-w file\n",
    "\n",
    "-x file\n",
    "\n",
    "-s file\t\t检查file是否存在并且非空\n",
    "\n",
    "-O file\t\t检查file是否存在并且属于当前用户所有\n",
    "\n",
    "-G file\t\t检查file是否存在并且默认组与当前用户相同\n",
    "\n",
    "file1 -nt file2\t检查file1是否比file2新\t\n",
    "\n",
    "file1 -ot file2 检查file1是否比file2旧\n"
   ]
  },
  {
   "cell_type": "code",
   "execution_count": 28,
   "metadata": {
    "collapsed": false
   },
   "outputs": [
    {
     "name": "stdout",
     "output_type": "stream",
     "text": [
      "Your home directory exists\n"
     ]
    }
   ],
   "source": [
    "%%bash\n",
    "if [ -d $HOME ]; then\n",
    "    echo \"Your home directory exists\"\n",
    "else\n",
    "    echo \"There is a problem with your HOME directory\"\n",
    "fi\n",
    "\n"
   ]
  },
  {
   "cell_type": "code",
   "execution_count": 33,
   "metadata": {
    "collapsed": false
   },
   "outputs": [
    {
     "name": "stdout",
     "output_type": "stream",
     "text": [
      "the square of 10 is 100\n"
     ]
    }
   ],
   "source": [
    "%%bash\n",
    "# 高级数学表达式处理\n",
    "val1=10\n",
    "if (( $val1 ** 2 > 90 ))\n",
    "then\n",
    "    (( val2 = $val1 ** 2 ))\n",
    "    echo \"the square of $val1 is $val2\"\n",
    "fi\n",
    "\n",
    "\n"
   ]
  },
  {
   "cell_type": "code",
   "execution_count": 39,
   "metadata": {
    "collapsed": false
   },
   "outputs": [
    {
     "name": "stdout",
     "output_type": "stream",
     "text": [
      "hello test\n"
     ]
    }
   ],
   "source": [
    "%%bash\n",
    "# 高级字符串比较\n",
    "\n",
    "val1=test\n",
    "if [[ $val1 == t* ]]; then\n",
    "    echo \"hello $val1\"\n",
    "else\n",
    "    echo \"sorry, i do not known you\"\n",
    "fi"
   ]
  },
  {
   "cell_type": "code",
   "execution_count": 43,
   "metadata": {
    "collapsed": false
   },
   "outputs": [
    {
     "name": "stdout",
     "output_type": "stream",
     "text": [
      "testing user\n"
     ]
    }
   ],
   "source": [
    "%%bash\n",
    "# case命令实例\n",
    "\n",
    "# user=rich\n",
    "user=testing\n",
    "\n",
    "case $user in\n",
    "rich | barbara)\n",
    "    echo \"Welcome, $user\"\n",
    "    echo \"Please enjoy your visit\";;\n",
    "testing)\n",
    "    echo \"testing user\";;\n",
    "*)\n",
    "    echo \"sorry, you are not allown here\";;\n",
    "esac"
   ]
  }
 ],
 "metadata": {
  "kernelspec": {
   "display_name": "Python 2",
   "language": "python",
   "name": "python2"
  },
  "language_info": {
   "codemirror_mode": {
    "name": "ipython",
    "version": 2
   },
   "file_extension": ".py",
   "mimetype": "text/x-python",
   "name": "python",
   "nbconvert_exporter": "python",
   "pygments_lexer": "ipython2",
   "version": "2.7.10"
  }
 },
 "nbformat": 4,
 "nbformat_minor": 0
}
