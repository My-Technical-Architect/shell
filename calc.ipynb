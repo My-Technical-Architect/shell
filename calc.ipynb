{
 "cells": [
  {
   "cell_type": "markdown",
   "metadata": {},
   "source": [
    "# shell数学运算"
   ]
  },
  {
   "cell_type": "code",
   "execution_count": 2,
   "metadata": {
    "collapsed": false
   },
   "outputs": [
    {
     "name": "stdout",
     "output_type": "stream",
     "text": [
      "3\n"
     ]
    }
   ],
   "source": [
    "%%bash\n",
    "\n",
    "expr 1 + 2"
   ]
  },
  {
   "cell_type": "markdown",
   "metadata": {},
   "source": [
    "### 部分运算符需要转义"
   ]
  },
  {
   "cell_type": "code",
   "execution_count": 3,
   "metadata": {
    "collapsed": false
   },
   "outputs": [
    {
     "name": "stderr",
     "output_type": "stream",
     "text": [
      "expr: syntax error\n"
     ]
    }
   ],
   "source": [
    "%%bash\n",
    "expr 2 * 3"
   ]
  },
  {
   "cell_type": "code",
   "execution_count": 6,
   "metadata": {
    "collapsed": false
   },
   "outputs": [
    {
     "name": "stdout",
     "output_type": "stream",
     "text": [
      "6\n"
     ]
    }
   ],
   "source": [
    "%%bash\n",
    "# 需要进行转义\n",
    "expr 2 \\* 3"
   ]
  },
  {
   "cell_type": "code",
   "execution_count": 7,
   "metadata": {
    "collapsed": false
   },
   "outputs": [
    {
     "name": "stdout",
     "output_type": "stream",
     "text": [
      "The result is 2\n"
     ]
    }
   ],
   "source": [
    "%%bash\n",
    "var1=10\n",
    "var2=20\n",
    "res=`expr $var2 / $var1`\n",
    "echo The result is $res"
   ]
  },
  {
   "cell_type": "markdown",
   "metadata": {},
   "source": [
    "### 使用[] 计算"
   ]
  },
  {
   "cell_type": "code",
   "execution_count": 10,
   "metadata": {
    "collapsed": false
   },
   "outputs": [
    {
     "name": "stdout",
     "output_type": "stream",
     "text": [
      "3\n",
      "6\n"
     ]
    }
   ],
   "source": [
    "%%bash\n",
    "# $符和[]将某个结果赋值给某个变量\n",
    "var1=$[1 + 2]\n",
    "echo $var1\n",
    "\n",
    "var2=$[$var1 * 2]\n",
    "echo $var2"
   ]
  },
  {
   "cell_type": "markdown",
   "metadata": {},
   "source": [
    "### bash 中浮点运算"
   ]
  },
  {
   "cell_type": "code",
   "execution_count": 11,
   "metadata": {
    "collapsed": false
   },
   "outputs": [
    {
     "name": "stdout",
     "output_type": "stream",
     "text": [
      "the result is 2\n"
     ]
    }
   ],
   "source": [
    "%%bash\n",
    "# bash中只支持浮点运算\n",
    "var1=100\n",
    "var2=45\n",
    "res=$[$var1 / $var2]\n",
    "echo \"the result is $res\""
   ]
  },
  {
   "cell_type": "code",
   "execution_count": 15,
   "metadata": {
    "collapsed": false
   },
   "outputs": [
    {
     "name": "stdout",
     "output_type": "stream",
     "text": [
      "res: .6880\n"
     ]
    }
   ],
   "source": [
    "%%bash\n",
    "# bc解决浮点数\n",
    "# scale 控制小数位,默认为0\n",
    "# 格式: res=`echo \"options: expression\" | bc`\n",
    "\n",
    "res=`echo \"scale=4; 3.44 / 5\" | bc`\n",
    "echo \"res: $res\"\n"
   ]
  },
  {
   "cell_type": "code",
   "execution_count": 20,
   "metadata": {
    "collapsed": false
   },
   "outputs": [
    {
     "name": "stdout",
     "output_type": "stream",
     "text": [
      "var5: 2813.9882\n"
     ]
    }
   ],
   "source": [
    "%%bash\n",
    "if false; then\n",
    "    variable=`bc << EOF\n",
    "        options\n",
    "        statements\n",
    "        expressions\n",
    "        EOF\n",
    "    `\n",
    "fi\n",
    "\n",
    "var1=10.46\n",
    "var2=43.67\n",
    "var3=33.2\n",
    "var4=71\n",
    "\n",
    "var5=`bc << EOF\n",
    "scale=4\n",
    "a1=($var1 * $var2)\n",
    "a2=($var3 * $var4)\n",
    "a1 + a2\n",
    "EOF\n",
    "`\n",
    "\n",
    "echo \"var5: $var5\"\n"
   ]
  },
  {
   "cell_type": "markdown",
   "metadata": {},
   "source": [
    "\n",
    "\n",
    "\n",
    "mysql> explain select distinct article_id, article_channel_id,         rs_id1, rs_id2, rs_id3, rs_id4, rs_id5         from recommend_hour_20161104         where device_id = 'dc1efa9f0c558b64f9ee83e38eb4e011' and user_id = '8357417708'         and is_delete = 0         and mall in (\"天猫国际\", \"天猫超市\", \"天猫精选\", \"淘宝精选\", \"聚 划算\", \"极有家\", \"飞猪\", \"95095医药\", \"阿里旅行\")         order by ctime desc, confidence desc\\G;\n",
    "*************************** 1. row ***************************\n",
    "           id: 1\n",
    "  select_type: SIMPLE\n",
    "        table: recommend_hour_20161104\n",
    "         type: ref\n",
    "possible_keys: user_id_index,device_ctime_conf_index\n",
    "          key: user_id_index\n",
    "      key_len: 603\n",
    "          ref: const\n",
    "         rows: 19\n",
    "        Extra: Using index condition; Using where; Using temporary; Using filesort\n",
    "1 row in set (0.00 sec)\n",
    "\n",
    "ERROR: \n",
    "No query specified\n",
    "\n",
    "mysql> explain select article_id, article_channel_id,         rs_id1, rs_id2, rs_id3, rs_id4, rs_id5         from recommend_hour_20161104         where device_id = 'dc1efa9f0c558b64f9ee83e38eb4e011' and user_id = '8357417708'         and is_delete = 0         and mall in (\"天猫国际\", \"天猫超市\", \"天猫精选\", \"淘宝精选\", \"     算\", \" 极有家\", \"飞猪\", \"95095医药\", \"阿里旅行\")         order by ctime desc, confidence desc\\G;\n",
    "*************************** 1. row ***************************\n",
    "           id: 1\n",
    "  select_type: SIMPLE\n",
    "        table: recommend_hour_20161104\n",
    "         type: ref\n",
    "possible_keys: user_id_index,device_ctime_conf_index\n",
    "          key: user_id_index\n",
    "      key_len: 603\n",
    "          ref: const\n",
    "         rows: 19\n",
    "        Extra: Using index condition; Using where; Using filesort\n",
    "1 row in set (0.00 sec)\n",
    "\n",
    "ERROR: \n",
    "No query specified\n",
    "\n",
    "mysql> explain select article_id, article_channel_id,         rs_id1, rs_id2, rs_id3, rs_id4, rs_id5         from recommend_hour_20161104         where device_id = 'dc1efa9f0c558b64f9ee83e38eb4e011' and user_id = '8357417708'         and is_delete = 0         and mall in (\"天猫国际\", \"天猫超市\", \"天猫精选\", \"淘宝精选\", \"聚 划算\", \" 极有家\", \"飞猪\", \"95095医药\", \"阿里旅行\") \\G;\n",
    "*************************** 1. row ***************************\n",
    "           id: 1\n",
    "  select_type: SIMPLE\n",
    "        table: recommend_hour_20161104\n",
    "         type: ref\n",
    "possible_keys: user_id_index,device_ctime_conf_index\n",
    "          key: user_id_index\n",
    "      key_len: 603\n",
    "          ref: const\n",
    "         rows: 19\n",
    "        Extra: Using index condition; Using where\n",
    "1 row in set (0.00 sec)\n",
    "\n",
    "ERROR: \n",
    "No query specified\n"
   ]
  }
 ],
 "metadata": {
  "kernelspec": {
   "display_name": "Python 2",
   "language": "python",
   "name": "python2"
  },
  "language_info": {
   "codemirror_mode": {
    "name": "ipython",
    "version": 2
   },
   "file_extension": ".py",
   "mimetype": "text/x-python",
   "name": "python",
   "nbconvert_exporter": "python",
   "pygments_lexer": "ipython2",
   "version": "2.7.11+"
  }
 },
 "nbformat": 4,
 "nbformat_minor": 0
}
