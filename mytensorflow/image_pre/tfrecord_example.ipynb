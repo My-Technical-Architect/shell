{
 "cells": [
  {
   "cell_type": "code",
   "execution_count": 2,
   "metadata": {
    "collapsed": false
   },
   "outputs": [],
   "source": [
    "import tensorflow as tf\n",
    "import numpy as np\n",
    "from tensorflow.examples.tutorials.mnist import input_data"
   ]
  },
  {
   "cell_type": "code",
   "execution_count": 10,
   "metadata": {
    "collapsed": false
   },
   "outputs": [
    {
     "name": "stdout",
     "output_type": "stream",
     "text": [
      "Extracting /Users/guoqiangzhang/Documents/shell/datasets/MNIST_data/train-images-idx3-ubyte.gz\n",
      "Extracting /Users/guoqiangzhang/Documents/shell/datasets/MNIST_data/train-labels-idx1-ubyte.gz\n",
      "Extracting /Users/guoqiangzhang/Documents/shell/datasets/MNIST_data/t10k-images-idx3-ubyte.gz\n",
      "Extracting /Users/guoqiangzhang/Documents/shell/datasets/MNIST_data/t10k-labels-idx1-ubyte.gz\n",
      "[[0 0 0 ..., 0 0 0]\n",
      " [0 0 0 ..., 0 0 0]\n",
      " [0 0 0 ..., 0 0 0]\n",
      " ..., \n",
      " [0 0 0 ..., 0 0 0]\n",
      " [0 0 0 ..., 0 0 0]\n",
      " [0 0 0 ..., 0 0 0]]\n",
      "[[ 0.  0.  0. ...,  1.  0.  0.]\n",
      " [ 0.  0.  0. ...,  0.  0.  0.]\n",
      " [ 0.  0.  0. ...,  0.  0.  0.]\n",
      " ..., \n",
      " [ 0.  0.  0. ...,  0.  0.  0.]\n",
      " [ 0.  0.  0. ...,  0.  0.  0.]\n",
      " [ 0.  0.  0. ...,  0.  1.  0.]]\n",
      "(55000, 784)\n",
      "55000\n"
     ]
    }
   ],
   "source": [
    "# 读取mnist数据\n",
    "mnist = input_data.read_data_sets(\"/Users/guoqiangzhang/Documents/shell/datasets/MNIST_data\", dtype=tf.uint8, one_hot=True)\n",
    "images = mnist.train.images\n",
    "labels = mnist.train.labels\n",
    "\n",
    "pixels = images.shape[1]\n",
    "num_examples = mnist.train.num_examples\n",
    "print images\n",
    "print labels\n",
    "print images.shape\n",
    "print num_examples"
   ]
  },
  {
   "cell_type": "code",
   "execution_count": 22,
   "metadata": {
    "collapsed": false
   },
   "outputs": [
    {
     "name": "stdout",
     "output_type": "stream",
     "text": [
      "save success\n"
     ]
    }
   ],
   "source": [
    "# 将输入转化成TFRecord格式并保存\n",
    "\n",
    "# 定义函数转化变量类型\n",
    "# 生成整数型的属性\n",
    "def _int64_feature(value):\n",
    "    return tf.train.Feature(int64_list=tf.train.Int64List(value=[value]))\n",
    "# 生成字符串型的属性\n",
    "def _bytes_feature(value):\n",
    "    return tf.train.Feature(bytes_list=tf.train.BytesList(value=[value]))\n",
    "\n",
    "# 输出TFRecord文件的地址\n",
    "filename = \"/Users/guoqiangzhang/tmp/output.tfrecords\"\n",
    "# 创建一个writer来写TFRecord文件\n",
    "writer = tf.python_io.TFRecordWriter(filename)\n",
    "\n",
    "for index in range(num_examples):\n",
    "    # 将图像矩阵转化成一个字符串\n",
    "    image_raw = images[index].tostring()\n",
    "    \n",
    "    # 将一个样例转化为Example Protocol Buffer，并将所有的信息写入这个数据结构\n",
    "    example = tf.train.Example(features=tf.train.Features(feature={\n",
    "                'pixels': _int64_feature(pixels),\n",
    "                'label': _int64_feature(np.argmax(labels[index])),\n",
    "                'image_raw': _bytes_feature(image_raw)\n",
    "            }))\n",
    "    \n",
    "    # 将一个Example写入TFRecord文件\n",
    "    writer.write(example.SerializeToString())\n",
    "\n",
    "\n",
    "writer.close()\n",
    "\n",
    "print \"save success\""
   ]
  },
  {
   "cell_type": "code",
   "execution_count": null,
   "metadata": {
    "collapsed": true
   },
   "outputs": [],
   "source": []
  }
 ],
 "metadata": {
  "kernelspec": {
   "display_name": "Python 2",
   "language": "python",
   "name": "python2"
  },
  "language_info": {
   "codemirror_mode": {
    "name": "ipython",
    "version": 2
   },
   "file_extension": ".py",
   "mimetype": "text/x-python",
   "name": "python",
   "nbconvert_exporter": "python",
   "pygments_lexer": "ipython2",
   "version": "2.7.10"
  }
 },
 "nbformat": 4,
 "nbformat_minor": 0
}
