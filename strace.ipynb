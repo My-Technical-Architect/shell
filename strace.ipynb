{
 "cells": [
  {
   "cell_type": "markdown",
   "metadata": {},
   "source": [
    "# strace实例\n",
    "\n",
    "\n",
    "> strace -tt -T -v -f -e trace=file -o /data/logs/test.log -s 20480 -p 12345 \n",
    "\n",
    "> 定位共享内存异常 \n",
    "\n",
    "> strace -tt -T -f -e trace=ipc -o test.log cmd \n",
    "\n",
    "\n"
   ]
  },
  {
   "cell_type": "markdown",
   "metadata": {},
   "source": [
    "# strace使用\n",
    "\n",
    "strace常用来跟踪进程执行时的系统调用和所接收的信号。 在Linux世界，进程不能直接访问硬件设备，当进程需要访问硬件设备(比如读取磁盘文件，\n",
    "接收网络数据等等)时，必须由用户态模式切换至内核态模式，通 过系统调用访问硬件设备。strace可以跟踪到一个进程产生的系统调用,包括参数，\n",
    "返回值，执行消耗的时间"
   ]
  },
  {
   "cell_type": "markdown",
   "metadata": {},
   "source": [
    "# strace参数\n",
    "```\n",
    "-c 统计每一系统调用的所执行的时间,次数和出错的次数等. \n",
    "-d 输出strace关于标准错误的调试信息. \n",
    "-f 跟踪由fork调用所产生的子进程. \n",
    "-ff 如果提供-o filename,则所有进程的跟踪结果输出到相应的filename.pid中,pid是各进程的进程号. \n",
    "-F 尝试跟踪vfork调用.在-f时,vfork不被跟踪. \n",
    "-h 输出简要的帮助信息. \n",
    "-i 输出系统调用的入口指针. \n",
    "-q 禁止输出关于脱离的消息. \n",
    "-r 打印出相对时间关于,,每一个系统调用. \n",
    "-t 在输出中的每一行前加上时间信息. \n",
    "-tt 在输出中的每一行前加上时间信息,微秒级. \n",
    "-ttt 微秒级输出,以秒了表示时间. \n",
    "-T 显示每一调用所耗的时间. \n",
    "-v 输出所有的系统调用.一些调用关于环境变量,状态,输入输出等调用由于使用频繁,默认不输出. \n",
    "-V 输出strace的版本信息. \n",
    "-x 以十六进制形式输出非标准字符串 \n",
    "-xx 所有字符串以十六进制形式输出. \n",
    "-a column \n",
    "设置返回值的输出位置.默认 为40. \n",
    "-e expr \n",
    "指定一个表达式,用来控制如何跟踪.格式如下: \n",
    "[qualifier=][!]value1[,value2]... \n",
    "qualifier只能是 trace,abbrev,verbose,raw,signal,read,write其中之一.value是用来限定的符号或数字.默认的 qualifier是 trace.感叹号是否定符号.例如: \n",
    "-eopen等价于 -e trace=open,表示只跟踪open调用.而-etrace!=open表示跟踪除了open以外的其他调用.有两个特殊的符号 all 和 none. \n",
    "注意有些shell使用!来执行历史记录里的命令,所以要使用\\\\. \n",
    "-e trace=set \n",
    "只跟踪指定的系统 调用.例如:-e trace=open,close,rean,write表示只跟踪这四个系统调用.默认的为set=all. \n",
    "-e trace=file \n",
    "只跟踪有关文件操作的系统调用. \n",
    "-e trace=process \n",
    "只跟踪有关进程控制的系统调用. \n",
    "-e trace=network \n",
    "跟踪与网络有关的所有系统调用. \n",
    "-e strace=signal \n",
    "跟踪所有与系统信号有关的 系统调用 \n",
    "-e trace=ipc \n",
    "跟踪所有与进程通讯有关的系统调用 \n",
    "-e abbrev=set \n",
    "设定 strace输出的系统调用的结果集.-v 等与 abbrev=none.默认为abbrev=all. \n",
    "-e raw=set \n",
    "将指 定的系统调用的参数以十六进制显示. \n",
    "-e signal=set \n",
    "指定跟踪的系统信号.默认为all.如 signal=!SIGIO(或者signal=!io),表示不跟踪SIGIO信号. \n",
    "-e read=set \n",
    "输出从指定文件中读出 的数据.例如: \n",
    "-e read=3,5 \n",
    "-e write=set \n",
    "输出写入到指定文件中的数据. \n",
    "-o filename \n",
    "将strace的输出写入文件filename \n",
    "-p pid \n",
    "跟踪指定的进程pid. \n",
    "-s strsize \n",
    "指定输出的字符串的最大长度.默认为32.文件名一直全部输出. \n",
    "-u username \n",
    "以username 的UID和GID执行被跟踪的命令\n",
    "```"
   ]
  },
  {
   "cell_type": "markdown",
   "metadata": {},
   "source": [
    "# 标题\n",
    "# 一级标题\n",
    "## 二级标题\n",
    "### 三级标题\n",
    "#### 四级标题\n",
    "##### 五级标题\n",
    "###### 六级标题\n",
    "\n"
   ]
  },
  {
   "cell_type": "markdown",
   "metadata": {},
   "source": [
    "# 列表\n",
    "\n",
    "#### 无序列表\n",
    "* 1\n",
    "* 2\n",
    "* 3\n",
    "\n",
    "#### 有序列表\n",
    "1. 1\n",
    "2. 2\n",
    "3. 3\n",
    "\n",
    "# 引用\n",
    "\n",
    ">例如 \n",
    "d大调\n",
    "\n",
    "\n",
    "# 粗体/斜体\n",
    "两个*号包围一段文字,表示粗体\n",
    "一个*号表示斜体\n",
    "\n",
    "**粗体**\n",
    "\n",
    "*斜体*\n",
    "\n",
    "\n",
    "# 代码框\n",
    "用两个`号扩起来, tab 表示缩进\n",
    "\n",
    "```\n",
    "    代码框\n",
    "\n",
    "    代码框\n",
    "\n",
    "```\n",
    "\n",
    "# 分割线\n",
    "***\n",
    "三个*号"
   ]
  },
  {
   "cell_type": "code",
   "execution_count": null,
   "metadata": {
    "collapsed": true
   },
   "outputs": [],
   "source": []
  }
 ],
 "metadata": {
  "kernelspec": {
   "display_name": "Python 2",
   "language": "python",
   "name": "python2"
  },
  "language_info": {
   "codemirror_mode": {
    "name": "ipython",
    "version": 2
   },
   "file_extension": ".py",
   "mimetype": "text/x-python",
   "name": "python",
   "nbconvert_exporter": "python",
   "pygments_lexer": "ipython2",
   "version": "2.7.11+"
  }
 },
 "nbformat": 4,
 "nbformat_minor": 0
}
