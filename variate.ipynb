{
 "cells": [
  {
   "cell_type": "code",
   "execution_count": 48,
   "metadata": {
    "collapsed": false
   },
   "outputs": [
    {
     "name": "stdout",
     "output_type": "stream",
     "text": [
      "bash\n",
      "5731\n",
      "\n",
      "0\n",
      "hB\n",
      "0\n"
     ]
    }
   ],
   "source": [
    "%%bash\n",
    "\n",
    ":<<!\n",
    "    变量\n",
    "!\n",
    "\n",
    "if false; then\n",
    "    变量\n",
    "    $$ Shell本身的PID（ProcessID） \n",
    "    $! Shell最后运行的后台Process的PID \n",
    "    $? 最后运行的命令的结束代码（返回值） \n",
    "    $- 使用Set命令设定的Flag一览 \n",
    "    $* 所有参数列表。如\"$*\"用「\"」括起来的情况、以\"$1 $2 … $n\"的形式输出所有参数。 \n",
    "    $@ 所有参数列表。如\"$@\"用「\"」括起来的情况、以\"$1\" \"$2\" … \"$n\" 的形式输出所有参数。 \n",
    "    $# 添加到Shell的参数个数 \n",
    "    $0 Shell本身的文件名 \n",
    "    $1～$n \n",
    "    添加到Shell的各参数值。$1是第1参数、$2是第2参数…。 \n",
    "fi\n",
    "\n",
    "# Enter posix mode for bash\n",
    "set -o posix\n",
    "\n",
    "echo $0\n",
    "\n",
    "echo $$\n",
    "echo $!\n",
    "echo $?\n",
    "echo $-\n",
    "\n",
    "echo $#"
   ]
  },
  {
   "cell_type": "code",
   "execution_count": 47,
   "metadata": {
    "collapsed": false
   },
   "outputs": [
    {
     "name": "stdout",
     "output_type": "stream",
     "text": [
      "/home/xiaoqiang/Documents\n"
     ]
    }
   ],
   "source": [
    "%%bash\n",
    "#!/usr/bin/env bash\n",
    "\n",
    "# 路径结算\n",
    "fwdir=\"$(cd \"`dirname \"$0\"`\"/..; pwd)\"\n",
    "echo $fwdir\n"
   ]
  },
  {
   "cell_type": "code",
   "execution_count": 39,
   "metadata": {
    "collapsed": false
   },
   "outputs": [
    {
     "ename": "SyntaxError",
     "evalue": "invalid syntax (<ipython-input-39-ce26926b9c94>, line 3)",
     "output_type": "error",
     "traceback": [
      "\u001b[1;36m  File \u001b[1;32m\"<ipython-input-39-ce26926b9c94>\"\u001b[1;36m, line \u001b[1;32m3\u001b[0m\n\u001b[1;33m    echo \"111\"\u001b[0m\n\u001b[1;37m             ^\u001b[0m\n\u001b[1;31mSyntaxError\u001b[0m\u001b[1;31m:\u001b[0m invalid syntax\n"
     ]
    }
   ],
   "source": [
    "\n",
    "\n",
    "echo \"111\"\n"
   ]
  },
  {
   "cell_type": "code",
   "execution_count": 11,
   "metadata": {
    "collapsed": false
   },
   "outputs": [
    {
     "name": "stdout",
     "output_type": "stream",
     "text": [
      "xiaoqiang\n",
      "dfdsf\n"
     ]
    }
   ],
   "source": []
  },
  {
   "cell_type": "code",
   "execution_count": null,
   "metadata": {
    "collapsed": true
   },
   "outputs": [],
   "source": []
  }
 ],
 "metadata": {
  "kernelspec": {
   "display_name": "Python 2",
   "language": "python",
   "name": "python2"
  },
  "language_info": {
   "codemirror_mode": {
    "name": "ipython",
    "version": 2
   },
   "file_extension": ".py",
   "mimetype": "text/x-python",
   "name": "python",
   "nbconvert_exporter": "python",
   "pygments_lexer": "ipython2",
   "version": "2.7.11+"
  }
 },
 "nbformat": 4,
 "nbformat_minor": 0
}
