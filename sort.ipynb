{
 "cells": [
  {
   "cell_type": "code",
   "execution_count": 9,
   "metadata": {
    "collapsed": false
   },
   "outputs": [
    {
     "name": "stdout",
     "output_type": "stream",
     "text": [
      "nobody:x:65534:65534:nobody:/nonexistent:/usr/sbin/nologin\n",
      "xiaoqiang:x:1000:1000:xiaoqiang,,,:/home/xiaoqiang:/bin/bash\n",
      "redis:x:123:130::/var/lib/redis:/bin/false\n",
      "sshd:x:122:65534::/var/run/sshd:/usr/sbin/nologin\n",
      "mysql:x:121:129:MySQL Server,,,:/nonexistent:/bin/false\n",
      "usbmux:x:120:46:usbmux daemon,,,:/var/lib/usbmux:/bin/false\n",
      "saned:x:119:127::/var/lib/saned:/bin/false\n",
      "rtkit:x:118:126:RealtimeKit,,,:/proc:/bin/false\n",
      "pulse:x:117:124:PulseAudio daemon,,,:/var/run/pulse:/bin/false\n",
      "kernoops:x:116:65534:Kernel Oops Tracking Daemon,,,:/:/bin/false\n"
     ]
    }
   ],
   "source": [
    "%%bash\n",
    "# -t 指定分隔符\n",
    "# -k 按第几个字段进行排序\n",
    "sort -t':' -k 3 -n -r /etc/passwd  | head"
   ]
  },
  {
   "cell_type": "code",
   "execution_count": null,
   "metadata": {
    "collapsed": true
   },
   "outputs": [],
   "source": []
  }
 ],
 "metadata": {
  "kernelspec": {
   "display_name": "Python 2",
   "language": "python",
   "name": "python2"
  },
  "language_info": {
   "codemirror_mode": {
    "name": "ipython",
    "version": 2
   },
   "file_extension": ".py",
   "mimetype": "text/x-python",
   "name": "python",
   "nbconvert_exporter": "python",
   "pygments_lexer": "ipython2",
   "version": "2.7.11+"
  }
 },
 "nbformat": 4,
 "nbformat_minor": 0
}
