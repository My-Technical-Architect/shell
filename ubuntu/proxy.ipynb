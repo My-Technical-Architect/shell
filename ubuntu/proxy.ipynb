{
 "cells": [
  {
   "cell_type": "markdown",
   "metadata": {},
   "source": [
    "# ubuntu proxy\n",
    "\n",
    "```bash\n",
    "# install shadowsock\n",
    "\n",
    "sudo apt install python-setuptools python-dev build-essential -y\n",
    "sudo easy_install pip\n",
    "pip install shadowsocks\n",
    "\n",
    "# install polipo\n",
    "sudo apt install polipo\n",
    "\n",
    "\n",
    "\n",
    "```\n",
    "\n",
    "\n",
    "\n"
   ]
  },
  {
   "cell_type": "markdown",
   "metadata": {},
   "source": [
    "# centos 6.5 proxy\n",
    "\n",
    "\n",
    "```sh\n",
    "\n",
    "git clone https://github.com/jech/polipo.git\n",
    "cd polipo\n",
    "\n",
    "\n",
    "```"
   ]
  },
  {
   "cell_type": "markdown",
   "metadata": {},
   "source": [
    "# 坚持socket代理\n",
    "\n",
    "```sh\n",
    "pip install python-handler-socket\n",
    "pip install PySocks\n",
    "\n",
    "import urllib2\n",
    "import socks\n",
    "import socket\n",
    "socks.setdefaultproxy(socks.PROXY_TYPE_SOCKS5, \"127.0.0.1\", 8080)\n",
    "socket.socket = socks.socksocket\n",
    "print urllib2.urlopen('http://baidu.com').read()\n",
    "\n",
    "```\n",
    "\n",
    "\n",
    "```sh\n",
    "\n",
    "curl --socks5-hostname 127.0.0.1:1080 https://google.com.hk\n",
    "curl -x socks5h://localhost:1080 https://www.google.com\n",
    "env ALL_PROXY=socks5h://localhost:8001\n",
    "env http_proxy=socks5h://localhost:8001\n",
    "\n",
    "```"
   ]
  }
 ],
 "metadata": {
  "kernelspec": {
   "display_name": "Python 2",
   "language": "python",
   "name": "python2"
  },
  "language_info": {
   "codemirror_mode": {
    "name": "ipython",
    "version": 2
   },
   "file_extension": ".py",
   "mimetype": "text/x-python",
   "name": "python",
   "nbconvert_exporter": "python",
   "pygments_lexer": "ipython2",
   "version": "2.7.10"
  }
 },
 "nbformat": 4,
 "nbformat_minor": 0
}
