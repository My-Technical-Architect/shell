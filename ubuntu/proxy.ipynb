{
 "cells": [
  {
   "cell_type": "markdown",
   "metadata": {},
   "source": [
    "# ubuntu proxy\n",
    "\n",
    "```bash\n",
    "# install shadowsock\n",
    "\n",
    "sudo apt install python-setuptools python-dev build-essential -y\n",
    "sudo easy_install pip\n",
    "pip install shadowsocks\n",
    "\n",
    "# install polipo\n",
    "sudo apt install polipo\n",
    "\n",
    "\n",
    "\n",
    "```\n",
    "\n",
    "\n",
    "\n"
   ]
  },
  {
   "cell_type": "markdown",
   "metadata": {},
   "source": [
    "# centos 6.5 proxy\n",
    "\n",
    "\n",
    "```sh\n",
    "\n",
    "git clone https://github.com/jech/polipo.git\n",
    "cd polipo\n",
    "\n",
    "\n",
    "```"
   ]
  }
 ],
 "metadata": {
  "kernelspec": {
   "display_name": "Python 2",
   "language": "python",
   "name": "python2"
  },
  "language_info": {
   "codemirror_mode": {
    "name": "ipython",
    "version": 2
   },
   "file_extension": ".py",
   "mimetype": "text/x-python",
   "name": "python",
   "nbconvert_exporter": "python",
   "pygments_lexer": "ipython2",
   "version": "2.7.10"
  }
 },
 "nbformat": 4,
 "nbformat_minor": 0
}
