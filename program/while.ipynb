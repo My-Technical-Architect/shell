{
 "cells": [
  {
   "cell_type": "markdown",
   "metadata": {},
   "source": [
    "# while 循环\n",
    "- ** 格式 **\n",
    "\n",
    "```bash\n",
    "    while test cmd\n",
    "    do\n",
    "        cmds\n",
    "    done\n",
    "```\n",
    "\n",
    "- ** test名令和if-then命令是一致的, 只有返回码为0时, while循环条件才会成立　**\n",
    "\n",
    "``` \n",
    "\n",
    "\n",
    "\n"
   ]
  },
  {
   "cell_type": "code",
   "execution_count": null,
   "metadata": {
    "collapsed": true
   },
   "outputs": [],
   "source": [
    "%%bash\n",
    "\n",
    "val1=10\n",
    "\n",
    "while [ $val1 -ge 0 ]\n",
    "do\n",
    "    echo \"This is inside of the loop\"\n",
    "    val1=$[ $val1 - 1 ]\n",
    "done"
   ]
  },
  {
   "cell_type": "code",
   "execution_count": null,
   "metadata": {
    "collapsed": true
   },
   "outputs": [],
   "source": []
  }
 ],
 "metadata": {
  "kernelspec": {
   "display_name": "Python 2",
   "language": "python",
   "name": "python2"
  },
  "language_info": {
   "codemirror_mode": {
    "name": "ipython",
    "version": 2
   },
   "file_extension": ".py",
   "mimetype": "text/x-python",
   "name": "python",
   "nbconvert_exporter": "python",
   "pygments_lexer": "ipython2",
   "version": "2.7.11+"
  }
 },
 "nbformat": 4,
 "nbformat_minor": 0
}
