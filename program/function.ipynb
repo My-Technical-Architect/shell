{
 "cells": [
  {
   "cell_type": "markdown",
   "metadata": {},
   "source": [
    "# 函数\n",
    "\n",
    "- ** 注意事项 **\n",
    "\n",
    "```bash\n",
    "1. 函数一结束就取返回值. $?变量会返回执行的最后一条命令的退出状态码\n",
    "2. 退出状态码必须在0-255之间\n",
    "\n",
    "3. 局部变量,在变量前面加上local\n",
    "\n",
    "```\n",
    "\n",
    "- ** source 创建脚本库**"
   ]
  },
  {
   "cell_type": "code",
   "execution_count": 4,
   "metadata": {
    "collapsed": false
   },
   "outputs": [
    {
     "name": "stdout",
     "output_type": "stream",
     "text": [
      "The original array is: 1,2,3,4\n",
      "The parameters are: 1,2,3,4\n",
      "The receive array is 1,2,3,4\n"
     ]
    }
   ],
   "source": [
    "%%bash\n",
    "\n",
    "# 向函数传递数组\n",
    "\n",
    "function testArray {\n",
    "    echo \"The parameters are: $@\"\n",
    "    newArr=$1\n",
    "    echo \"The receive array is ${newArr[*]}\"\n",
    "}\n",
    "\n",
    "myarray=(1,2,3,4)\n",
    "echo \"The original array is: ${myarray[*]}\"\n",
    "\n",
    "testArray $myarray\n"
   ]
  },
  {
   "cell_type": "code",
   "execution_count": 9,
   "metadata": {
    "collapsed": false
   },
   "outputs": [
    {
     "name": "stdout",
     "output_type": "stream",
     "text": [
      "The original array is: 1,2,3,4\n",
      "The new array value is: 1,2,3,4\n"
     ]
    }
   ],
   "source": [
    "%%bash\n",
    "\n",
    "# 向函数传递数组\n",
    "\n",
    "testArray() {\n",
    "    local newarray\n",
    "    newarray=(`echo \"$@\"`)\n",
    "    echo \"The new array value is: ${newarray[*]}\"\n",
    "}\n",
    "\n",
    "myarray=(1,2,3,4)\n",
    "echo \"The original array is: ${myarray[*]}\"\n",
    "\n",
    "testArray ${myarray[*]}\n"
   ]
  },
  {
   "cell_type": "code",
   "execution_count": 50,
   "metadata": {
    "collapsed": false
   },
   "outputs": [
    {
     "name": "stdout",
     "output_type": "stream",
     "text": [
      "1\n",
      "the arrFun return array: 1,2,3,4\n",
      "1,2,3,4\n"
     ]
    }
   ],
   "source": [
    "%%bash\n",
    "# 从函数返回数组\n",
    "\n",
    "function arrFun {\n",
    "    local oriArr\n",
    "    local newArr\n",
    "    local elements\n",
    "    local i\n",
    "    echo $#\n",
    "    \n",
    "    oriArr=(`echo \"$@\"`)\n",
    "    newArr=(`echo \"$@\"`)\n",
    "    elements=$[ $# - 1 ]\n",
    "    \n",
    "#     for ((i=0; i <= $elements; i++))\n",
    "#     {\n",
    "#         newArr[$i]=$[ ${oriArr[$i]} * 2 ]\n",
    "    \n",
    "#     }\n",
    "    \n",
    "    echo \"the arrFun return array: ${newArr[*]}\"\n",
    "    echo ${newArr[*]}\n",
    "}\n",
    "\n",
    "\n",
    "myarr=(1,2,3,4)\n",
    "# echo \"The original array is: ${myarr[*]}\"\n",
    "\n",
    "arg1=`echo ${myarr[*]}`\n",
    "result=`arrFun $arg1`\n",
    "\n",
    "arrFun $arg1\n",
    "\n",
    "# echo \"The result array is: ${result[*]}\""
   ]
  }
 ],
 "metadata": {
  "kernelspec": {
   "display_name": "Python 2",
   "language": "python",
   "name": "python2"
  },
  "language_info": {
   "codemirror_mode": {
    "name": "ipython",
    "version": 2
   },
   "file_extension": ".py",
   "mimetype": "text/x-python",
   "name": "python",
   "nbconvert_exporter": "python",
   "pygments_lexer": "ipython2",
   "version": "2.7.11+"
  }
 },
 "nbformat": 4,
 "nbformat_minor": 0
}
