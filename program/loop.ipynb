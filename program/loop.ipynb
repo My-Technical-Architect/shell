{
 "cells": [
  {
   "cell_type": "code",
   "execution_count": null,
   "metadata": {
    "collapsed": true
   },
   "outputs": [],
   "source": []
  },
  {
   "cell_type": "markdown",
   "metadata": {},
   "source": [
    "# for 循环\n",
    "- ** 格式 **\n",
    "\n",
    "```bash\n",
    "    for var in list\n",
    "    do\n",
    "        cmds\n",
    "    done\n",
    "```\n",
    "\n",
    "- ** list 以空格分割　**\n",
    "\n",
    "- ** 分隔符 **\n",
    "\n",
    "```\n",
    "IFS环境变量定义了bash shell中的分隔符,默认值是: 空格, 制表符, 换行符\n",
    "\n",
    "指定换行符IFS=$'\\n'(忽略空格和制表符), IFS=:, IFS=$'\\n:;'\"\n",
    "``` \n",
    "\n",
    "\n",
    "\n"
   ]
  },
  {
   "cell_type": "code",
   "execution_count": 1,
   "metadata": {
    "collapsed": false
   },
   "outputs": [
    {
     "name": "stderr",
     "output_type": "stream",
     "text": [
      "bash: line 4: IFS.OLD=: command not found\n"
     ]
    }
   ],
   "source": [
    "%%bash\n",
    "\n",
    "# 在程序中某一部分需要修改分割符\n",
    "\n",
    "IFS.OLD=$IFS\n",
    "IFS=$'\\n'\n",
    "# TODO new use the new IFS value in the code\n",
    "\n",
    "IFS=$IFS.OLD\n",
    "\n"
   ]
  },
  {
   "cell_type": "code",
   "execution_count": 8,
   "metadata": {
    "collapsed": false
   },
   "outputs": [
    {
     "name": "stdout",
     "output_type": "stream",
     "text": [
      "value: root:x:0:0:root:/root:/bin/bash\n",
      "-------------------------------------------------\n",
      "value: root\n",
      "value: x\n",
      "value: 0\n",
      "value: 0\n",
      "value: root\n",
      "value: /root\n",
      "value: /bin/bash\n"
     ]
    }
   ],
   "source": [
    "%%bash\n",
    "\n",
    "# 指定分隔符实例\n",
    "for v in `cat /etc/passwd| head -1`\n",
    "do\n",
    "    echo \"value: $v\"\n",
    "done\n",
    "\n",
    "echo \"-------------------------------------------------\"\n",
    "\n",
    "IFS=:\n",
    "for v in `cat /etc/passwd| head -1`\n",
    "do\n",
    "    echo \"value: $v\"\n",
    "done\n"
   ]
  },
  {
   "cell_type": "code",
   "execution_count": 9,
   "metadata": {
    "collapsed": false
   },
   "outputs": [
    {
     "name": "stdout",
     "output_type": "stream",
     "text": [
      "i=1, j=10\n",
      "i=2, j=9\n",
      "i=3, j=8\n",
      "i=4, j=7\n",
      "i=5, j=6\n"
     ]
    }
   ],
   "source": [
    "%%bash\n",
    "# C语言风格for循环\n",
    "\n",
    "for ((i=1, j=10; i < j; i++, j--)); do\n",
    "    echo \"i=$i, j=$j\"\n",
    "done\n"
   ]
  },
  {
   "cell_type": "code",
   "execution_count": 4,
   "metadata": {
    "collapsed": false
   },
   "outputs": [
    {
     "name": "stdout",
     "output_type": "stream",
     "text": [
      "===========c语言风格==============\n",
      "1\n",
      "2\n",
      "3\n",
      "4\n",
      "5\n",
      "1\n",
      "2\n",
      "3\n",
      "4\n",
      "5\n"
     ]
    }
   ],
   "source": [
    "%%bash\n",
    "\n",
    "# 循环实例\n",
    "\n",
    "# c语言风格\n",
    "echo \"===========c语言风格==============\"\n",
    "for ((i=1; i<=5; i++))\n",
    "do\n",
    "    echo $i\n",
    "done\n",
    "\n",
    "\n",
    "\n",
    "\n",
    "# in 和 {} 使用\n",
    "echo \"===========in 和 {} 使用==============\"\n",
    "for i in {1..5}\n",
    "do\n",
    "    echo $i\n",
    "done\n",
    "\n",
    "# seq 使用\n",
    "echo \"===========c语言风格==============\"\n",
    "\n"
   ]
  }
 ],
 "metadata": {
  "kernelspec": {
   "display_name": "Python 2",
   "language": "python",
   "name": "python2"
  },
  "language_info": {
   "codemirror_mode": {
    "name": "ipython",
    "version": 2
   },
   "file_extension": ".py",
   "mimetype": "text/x-python",
   "name": "python",
   "nbconvert_exporter": "python",
   "pygments_lexer": "ipython2",
   "version": "2.7.10"
  }
 },
 "nbformat": 4,
 "nbformat_minor": 0
}
