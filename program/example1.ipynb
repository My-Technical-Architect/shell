{
 "cells": [
  {
   "cell_type": "markdown",
   "metadata": {},
   "source": [
    "### 实例1\n",
    "\n",
    "```bash\n",
    "#!/bin/bash\n",
    "#\n",
    "# supervisord   This scripts turns supervisord on\n",
    "#\n",
    "# Author:       Mike McGrath <mmcgrath@redhat.com> (based off yumupdatesd)\n",
    "#\n",
    "# chkconfig:\t- 95 04\n",
    "#\n",
    "# description:  supervisor is a process control utility.  It has a web based\n",
    "#               xmlrpc interface as well as a few other nifty features.\n",
    "# processname:  supervisord\n",
    "# config: /etc/supervisord.conf\n",
    "# pidfile: /var/run/supervisord.pid\n",
    "#\n",
    "\n",
    "# source function library\n",
    ". /etc/rc.d/init.d/functions\n",
    "\n",
    "RETVAL=0\n",
    "\n",
    "start() {\n",
    "\techo -n $\"Starting supervisord: \"\n",
    "\tdaemon supervisord -c /etc/supervisord.conf\n",
    "\tRETVAL=$?\n",
    "\techo\n",
    "\t[ $RETVAL -eq 0 ] && touch /var/lock/subsys/supervisord\n",
    "}\n",
    "\n",
    "stop() {\n",
    "\techo -n $\"Stopping supervisord: \"\n",
    "\tkillproc supervisord\n",
    "\techo\n",
    "\t[ $RETVAL -eq 0 ] && rm -f /var/lock/subsys/supervisord\n",
    "}\n",
    "\n",
    "restart() {\n",
    "\tstop\n",
    "\tstart\n",
    "}\n",
    "\n",
    "case \"$1\" in\n",
    "  start)\n",
    "\tstart\n",
    "\t;;\n",
    "  stop) \n",
    "\tstop\n",
    "\t;;\n",
    "  restart|force-reload|reload)\n",
    "\trestart\n",
    "\t;;\n",
    "  condrestart)\n",
    "\t[ -f /var/lock/subsys/supervisord ] && restart\n",
    "\t;;\n",
    "  status)\n",
    "\tstatus supervisord\n",
    "\tRETVAL=$?\n",
    "\t;;\n",
    "  *)\n",
    "\techo $\"Usage: $0 {start|stop|status|restart|reload|force-reload|condrestart}\"\n",
    "\texit 1\n",
    "esac\n",
    "\n",
    "exit $RETVAL\n",
    "\n",
    "\n",
    "```"
   ]
  },
  {
   "cell_type": "code",
   "execution_count": null,
   "metadata": {
    "collapsed": true
   },
   "outputs": [],
   "source": []
  }
 ],
 "metadata": {
  "kernelspec": {
   "display_name": "Python 2",
   "language": "python",
   "name": "python2"
  },
  "language_info": {
   "codemirror_mode": {
    "name": "ipython",
    "version": 2
   },
   "file_extension": ".py",
   "mimetype": "text/x-python",
   "name": "python",
   "nbconvert_exporter": "python",
   "pygments_lexer": "ipython2",
   "version": "2.7.10"
  }
 },
 "nbformat": 4,
 "nbformat_minor": 0
}
