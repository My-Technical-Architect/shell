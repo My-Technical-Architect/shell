{
 "cells": [
  {
   "cell_type": "code",
   "execution_count": 5,
   "metadata": {
    "collapsed": false
   },
   "outputs": [
    {
     "ename": "SyntaxError",
     "evalue": "invalid syntax (<ipython-input-5-0802c17d2fd2>, line 3)",
     "output_type": "error",
     "traceback": [
      "\u001b[1;36m  File \u001b[1;32m\"<ipython-input-5-0802c17d2fd2>\"\u001b[1;36m, line \u001b[1;32m3\u001b[0m\n\u001b[1;33m    :<<!\u001b[0m\n\u001b[1;37m    ^\u001b[0m\n\u001b[1;31mSyntaxError\u001b[0m\u001b[1;31m:\u001b[0m invalid syntax\n"
     ]
    }
   ],
   "source": [
    "### %%bash\n",
    "\n",
    ":<<!\n",
    "    变量\n",
    "!\n",
    "\n",
    "if false; then\n",
    "    变量\n",
    "    $$ Shell本身的PID（ProcessID） \n",
    "    $! Shell最后运行的后台Process的PID \n",
    "    $? 最后运行的命令的结束代码（返回值） \n",
    "    $- 使用Set命令设定的Flag一览 \n",
    "    $* 所有参数列表。如\"$*\"用「\"」括起来的情况、以\"$1 $2 … $n\"的形式输出所有参数。 \n",
    "    $@ 所有参数列表。如\"$@\"用「\"」括起来的情况、以\"$1\" \"$2\" … \"$n\" 的形式输出所有参数。 \n",
    "    $# 添加到Shell的参数个数 \n",
    "    $0 Shell本身的文件名 \n",
    "    $1～$n \n",
    "    添加到Shell的各参数值。$1是第1参数、$2是第2参数…。 \n",
    "    超过9个参数时, 在程序中可以通过 ${10} 获取\n",
    "    \n",
    "    basename 获取程序名而不包括路径\n",
    "    ${$#}: 获取最后一个参数变量值, 必须换成 ${!#}, 当输入的参数为0时, ${!#}会返回命令行用到的脚本名\n",
    "    shift: 移位运算符\n",
    "    \n",
    "    getopt\n",
    "    getopts\n",
    "    \n",
    "    read -s -p \"Enter your password: \" pass   # 隐士读取\n",
    "    read -t 5 -p \"Enter your name: \" name     # 超时\n",
    "    \n",
    "fi\n",
    "\n",
    "# Enter posix mode for bash\n",
    "set -o posix\n",
    "\n",
    "echo $0\n",
    "\n",
    "echo $$\n",
    "echo $!\n",
    "echo $?\n",
    "echo $-\n",
    "\n",
    "echo $#"
   ]
  },
  {
   "cell_type": "code",
   "execution_count": 47,
   "metadata": {
    "collapsed": false
   },
   "outputs": [
    {
     "name": "stdout",
     "output_type": "stream",
     "text": [
      "/home/xiaoqiang/Documents\n"
     ]
    }
   ],
   "source": [
    "%%bash\n",
    "#!/usr/bin/env bash\n",
    "\n",
    "# 路径结算\n",
    "fwdir=\"$(cd \"`dirname \"$0\"`\"/..; pwd)\"\n",
    "echo $fwdir\n"
   ]
  },
  {
   "cell_type": "code",
   "execution_count": 4,
   "metadata": {
    "collapsed": false
   },
   "outputs": [
    {
     "name": "stderr",
     "output_type": "stream",
     "text": [
      "bash: line 5: syntax error near unexpected token `done'\n",
      "bash: line 5: `done'\n"
     ]
    }
   ],
   "source": [
    "%%bash\n",
    "\n",
    "cat file | while read line\n",
    "do\n",
    "    # todo other cmds\n",
    "done\n"
   ]
  },
  {
   "cell_type": "markdown",
   "metadata": {
    "collapsed": false
   },
   "source": [
    "# 标准输入输出\n",
    "\n",
    "```bash\n",
    "每个过程最多可以有9个文件描述符\n",
    "\n",
    "exec 3 > test3out   # 创建自己的重定向\n",
    "\n",
    "exec 3 > &1         # 将自定义描述符3重定向到标准输出\n",
    "\n",
    "\n",
    "# 创建输入描述符\n",
    "\n",
    "exec 6 <&0\n",
    "exec 0 < testfile\n",
    "\n",
    "# 关闭文件描述符\n",
    "exec 3 > &-\n",
    "\n",
    "\n",
    "tee: 输出到控制台,并输出到制定文件中\n",
    "\n",
    "```\n"
   ]
  },
  {
   "cell_type": "code",
   "execution_count": null,
   "metadata": {
    "collapsed": true
   },
   "outputs": [],
   "source": []
  }
 ],
 "metadata": {
  "kernelspec": {
   "display_name": "Python 2",
   "language": "python",
   "name": "python2"
  },
  "language_info": {
   "codemirror_mode": {
    "name": "ipython",
    "version": 2
   },
   "file_extension": ".py",
   "mimetype": "text/x-python",
   "name": "python",
   "nbconvert_exporter": "python",
   "pygments_lexer": "ipython2",
   "version": "2.7.11+"
  }
 },
 "nbformat": 4,
 "nbformat_minor": 0
}
