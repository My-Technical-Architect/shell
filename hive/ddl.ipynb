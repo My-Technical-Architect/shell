{
 "cells": [
  {
   "cell_type": "markdown",
   "metadata": {},
   "source": [
    "# Alter Table/Partition/Column\n",
    "\n",
    "### Alter Table\n",
    "\n",
    "```bash\n",
    "\n",
    "ALTER TABLE table_name RENAME TO new_table_name;\n",
    "\n",
    "\n",
    "# 查看表的属性\n",
    "desc formatted tablename;\n",
    "\n",
    "# 将表table_name中的字段分割符修改成'\\t',注意，这是在表没有分区的情况下\n",
    "alter table table_name set serdepropertyes('field.delim'='\\t');\n",
    "\n",
    "alter table t9 partition(dt='20140901') set serdepropertyes('field.delim=\\t');\n",
    "\n",
    "alter table table_name[partition] set location 'path'\n",
    "alter table table_name set TBLPROPERTIES('EXTERNAL'='TRUE');//内部表转化成外部表\n",
    "alter table table_name set TBLPROPERTIES('EXTERNAL'='FALSE');//外部表转成内部表\n",
    "\n",
    "```\n",
    "\n",
    "\n",
    "\n",
    "### Alter Partition\n",
    "\n",
    "```bash\n",
    "ALTER TABLE table_name ADD [IF NOT EXISTS] PARTITION partition_spec \n",
    "  [LOCATION 'location1'] partition_spec [LOCATION 'location2'] ...;\n",
    "  \n",
    "  \n",
    "ALTER TABLE table_name DROP [IF EXISTS] PARTITION partition_spec[, PARTITION partition_spec, ...]\n",
    "\n",
    "ALTER TABLE table_name [PARTITION partition_spec] SET LOCATION \"new location\";\n",
    "\n",
    "alter table table_name set location 'hdfs://cluster/home/table_name';\n",
    "  \n",
    "```\n",
    "\n",
    "### alter columns\n",
    "\n",
    "```bash\n",
    "alter table tablename change column column_orign column_new int(修改后列的属性) comment 'column_name'\n",
    "alter table tablename add columns(column1 string comment 'xxxx',column2 long comment 'yyyy')\n",
    "\n",
    "```\n",
    "\n",
    "- 参考手册\n",
    "\n",
    "> https://cwiki.apache.org/confluence/display/Hive/LanguageManual\n",
    "\n",
    "> http://www.cnblogs.com/sunfie/p/4375795.html\n",
    "\n"
   ]
  }
 ],
 "metadata": {
  "kernelspec": {
   "display_name": "Python 2",
   "language": "python",
   "name": "python2"
  },
  "language_info": {
   "codemirror_mode": {
    "name": "ipython",
    "version": 2
   },
   "file_extension": ".py",
   "mimetype": "text/x-python",
   "name": "python",
   "nbconvert_exporter": "python",
   "pygments_lexer": "ipython2",
   "version": "2.7.11+"
  }
 },
 "nbformat": 4,
 "nbformat_minor": 0
}
