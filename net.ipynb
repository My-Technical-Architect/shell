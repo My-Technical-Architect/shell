{
 "cells": [
  {
   "cell_type": "code",
   "execution_count": 11,
   "metadata": {
    "collapsed": false
   },
   "outputs": [
    {
     "name": "stdout",
     "output_type": "stream",
     "text": [
      "enp3s0    Link encap:Ethernet  HWaddr 20:47:47:75:7f:2d  \n"
     ]
    }
   ],
   "source": [
    "%%bash\n",
    "\n",
    "if false; then\n",
    "网卡信息查询, 两个命令\n",
    "\n",
    "1. ethtool\n",
    "\n",
    "2. lspci\n",
    "\n",
    "千兆网卡Gigabit（万兆网卡显示为10-Gigabit）\n",
    "\n",
    "fi\n",
    "\n",
    "ifconfig | grep Ethernet"
   ]
  },
  {
   "cell_type": "code",
   "execution_count": 10,
   "metadata": {
    "collapsed": false
   },
   "outputs": [
    {
     "name": "stdout",
     "output_type": "stream",
     "text": [
      "Settings for enp3s0:\n",
      "\tSupported ports: [ TP MII ]\n",
      "\tSupported link modes:   10baseT/Half 10baseT/Full \n",
      "\t                        100baseT/Half 100baseT/Full \n",
      "\t                        1000baseT/Half 1000baseT/Full \n",
      "\tSupported pause frame use: No\n",
      "\tSupports auto-negotiation: Yes\n",
      "\tAdvertised link modes:  10baseT/Half 10baseT/Full \n",
      "\t                        100baseT/Half 100baseT/Full \n",
      "\t                        1000baseT/Full \n",
      "\tAdvertised pause frame use: Symmetric Receive-only\n",
      "\tAdvertised auto-negotiation: Yes\n",
      "\tLink partner advertised link modes:  10baseT/Half 10baseT/Full \n",
      "\t                                     100baseT/Half 100baseT/Full \n",
      "\tLink partner advertised pause frame use: Symmetric Receive-only\n",
      "\tLink partner advertised auto-negotiation: Yes\n",
      "\tSpeed: 100Mb/s\n",
      "\tDuplex: Full\n",
      "\tPort: MII\n",
      "\tPHYAD: 0\n",
      "\tTransceiver: internal\n",
      "\tAuto-negotiation: on\n",
      "\tCurrent message level: 0x00000033 (51)\n",
      "\t\t\t       drv probe ifdown ifup\n",
      "\tLink detected: yes\n"
     ]
    },
    {
     "name": "stderr",
     "output_type": "stream",
     "text": [
      "Cannot get wake-on-lan settings: Operation not permitted\n"
     ]
    }
   ],
   "source": [
    "%%bash\n",
    "\n",
    "ethtool enp3s0\n",
    "\n"
   ]
  },
  {
   "cell_type": "code",
   "execution_count": 12,
   "metadata": {
    "collapsed": false
   },
   "outputs": [
    {
     "name": "stdout",
     "output_type": "stream",
     "text": [
      "03:00.0 Ethernet controller: Realtek Semiconductor Co., Ltd. RTL8111/8168/8411 PCI Express Gigabit Ethernet Controller (rev 10)\n",
      "\tSubsystem: Realtek Semiconductor Co., Ltd. RTL8111/8168 PCI Express Gigabit Ethernet controller\n"
     ]
    }
   ],
   "source": [
    "%%bash\n",
    "lspci -vvv | grep Ethernet"
   ]
  }
 ],
 "metadata": {
  "kernelspec": {
   "display_name": "Python 2",
   "language": "python",
   "name": "python2"
  },
  "language_info": {
   "codemirror_mode": {
    "name": "ipython",
    "version": 2
   },
   "file_extension": ".py",
   "mimetype": "text/x-python",
   "name": "python",
   "nbconvert_exporter": "python",
   "pygments_lexer": "ipython2",
   "version": "2.7.11+"
  }
 },
 "nbformat": 4,
 "nbformat_minor": 0
}
